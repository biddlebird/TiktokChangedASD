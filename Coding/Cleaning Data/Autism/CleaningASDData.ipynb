{
 "cells": [
  {
   "cell_type": "code",
   "execution_count": 11,
   "metadata": {},
   "outputs": [],
   "source": [
    "import pandas as pd"
   ]
  },
  {
   "cell_type": "code",
   "execution_count": 12,
   "metadata": {},
   "outputs": [
    {
     "name": "stdout",
     "output_type": "stream",
     "text": [
      "Index(['Author', 'Title', 'Year Published', 'Country', 'Area(s)', 'Age Range',\n",
      "       'Study Years', 'Case Identification Method', 'Case Criterion',\n",
      "       'Sample Size', 'Number of Cases', 'ASD Prevalence Estimate per 1,000',\n",
      "       'Confidence Interval (CI)', 'Male:Female Sex Ratio',\n",
      "       'Non-Hispanic White:Hispanic Prevalence Ratio',\n",
      "       'White:Black Prevalence Ratio', 'Diagnosis Age Range (months)',\n",
      "       'Diagnosis Mean Age (months)', 'Diagnosis Median Age (months)',\n",
      "       'IQ Score <70 (%)', 'Adaptive Score <70 (%)',\n",
      "       'Non-Verbal or Minimally Verbal (%)',\n",
      "       'Percentage of Individual Co-occurring Conditions',\n",
      "       'Autism Types Included', 'Link to Publication',\n",
      "       'CDC Calculated Values'],\n",
      "      dtype='object')\n"
     ]
    }
   ],
   "source": [
    "ASDdf = pd.read_csv('../../../Raw Data/autism_prevalence_studies.csv')\n",
    "print(ASDdf.columns)"
   ]
  },
  {
   "cell_type": "code",
   "execution_count": 16,
   "metadata": {},
   "outputs": [
    {
     "name": "stdout",
     "output_type": "stream",
     "text": [
      "   Country Age Range Study Years  Sample Size  Number of Cases  \\\n",
      "0  England   8 to 10        1964      78000.0             35.0   \n",
      "1      USA   2 to 12   1962-1967     899750.0             69.0   \n",
      "2  Denmark   2 to 14        1962      46500.0             20.0   \n",
      "3  England   5 to 14        1974      25000.0             12.0   \n",
      "4  England   0 to 14        1970      35000.0             17.0   \n",
      "\n",
      "   ASD Prevalence Estimate per 1,000 Confidence Interval (CI)  \\\n",
      "0                              0.450              0.32 - 0.62   \n",
      "1                              0.077              0.06 - 0.10   \n",
      "2                              0.430              0.28 - 0.66   \n",
      "3                              4.480              0.27 - 0.84   \n",
      "4                              0.490              0.30 - 0.78   \n",
      "\n",
      "   Male:Female Sex Ratio  Non-Hispanic White:Hispanic Prevalence Ratio  \\\n",
      "0                    2.6                                           NaN   \n",
      "1                    3.1                                           NaN   \n",
      "2                    1.7                                           NaN   \n",
      "3                    NaN                                           NaN   \n",
      "4                    NaN                                           NaN   \n",
      "\n",
      "   White:Black Prevalence Ratio Diagnosis Age Range (months)  \\\n",
      "0                           NaN                          NaN   \n",
      "1                           NaN                          NaN   \n",
      "2                           NaN                          NaN   \n",
      "3                           NaN                          NaN   \n",
      "4                           NaN                          NaN   \n",
      "\n",
      "   Diagnosis Mean Age (months) Diagnosis Median Age (months)  \\\n",
      "0                          NaN                           NaN   \n",
      "1                          NaN                           NaN   \n",
      "2                          NaN                           NaN   \n",
      "3                          NaN                           NaN   \n",
      "4                          NaN                           NaN   \n",
      "\n",
      "   Non-Verbal or Minimally Verbal (%)  \\\n",
      "0                                59.0   \n",
      "1                                 NaN   \n",
      "2                                 NaN   \n",
      "3                                 NaN   \n",
      "4                                59.0   \n",
      "\n",
      "  Percentage of Individual Co-occurring Conditions CDC Calculated Values  \n",
      "0                                              NaN  IQ Score <70 (%); CI  \n",
      "1                                              NaN                    CI  \n",
      "2                                              NaN                    CI  \n",
      "3                                              NaN                    CI  \n",
      "4                                0 (Down syndrome)  IQ Score <70 (%); CI  \n"
     ]
    }
   ],
   "source": [
    "# Removing unwanted columns\n",
    "columns_to_drop = ['Author', 'Title', 'Year Published', 'Area(s)', 'Case Identification Method', 'Case Criterion',\n",
    "  'IQ Score <70 (%)', 'Adaptive Score <70 (%)', 'Autism Types Included', 'Link to Publication']\n",
    "\n",
    "# Drop the identified columns\n",
    "df_cleaned = ASDdf.drop(columns=columns_to_drop, errors='ignore')\n",
    "\n",
    "# Display the first few rows of the cleaned DataFrame to confirm\n",
    "print(df_cleaned.head())\n",
    "\n",
    "# Save the cleaned DataFrame to a new CSV file\n",
    "df_cleaned.to_csv('../../../Cleaned Data/cleaned_ASD_data.csv', index=False)\n"
   ]
  }
 ],
 "metadata": {
  "kernelspec": {
   "display_name": "UCB",
   "language": "python",
   "name": "python3"
  },
  "language_info": {
   "codemirror_mode": {
    "name": "ipython",
    "version": 3
   },
   "file_extension": ".py",
   "mimetype": "text/x-python",
   "name": "python",
   "nbconvert_exporter": "python",
   "pygments_lexer": "ipython3",
   "version": "3.12.4"
  }
 },
 "nbformat": 4,
 "nbformat_minor": 2
}
