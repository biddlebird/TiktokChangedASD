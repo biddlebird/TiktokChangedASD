{
 "cells": [
  {
   "cell_type": "code",
   "execution_count": 21,
   "metadata": {},
   "outputs": [],
   "source": [
    "import pandas as pd\n",
    "import re"
   ]
  },
  {
   "cell_type": "code",
   "execution_count": 22,
   "metadata": {},
   "outputs": [
    {
     "name": "stdout",
     "output_type": "stream",
     "text": [
      "Codebook: ['/* 03052024 */\\n', '*************************************************************\\n', '************************************************************;\\n', 'libname file \"<<INSERT FILE DIRECTORY>>\";\\n', '*************************************************************\\n', '************************************************************;\\n', '\\n', 'data screener;\\n', '\\tset file.nsch_2018e_screener;\\n', '\\tlabel\\n']\n"
     ]
    }
   ],
   "source": [
    "code_dictionary = \"../../../Raw Data/nsch_2018_screener_SAS/nsch_2018_screener.sas\"\n",
    "\n",
    "with open(code_dictionary, 'r') as f:\n",
    "    codebook_content = f.readlines()\n",
    "\n",
    "print(\"Codebook:\", codebook_content[:10])"
   ]
  },
  {
   "cell_type": "markdown",
   "metadata": {},
   "source": [
    "## 2016-2023 NSCH data"
   ]
  },
  {
   "cell_type": "code",
   "execution_count": 23,
   "metadata": {},
   "outputs": [
    {
     "name": "stdout",
     "output_type": "stream",
     "text": [
      "         HHIDS  C_ENGLISH STRATUM         FWH FIPSST  TOTKIDS_R  HHLANGUAGE  \\\n",
      "0  b'16000001'        1.0    b'1'  521.630828  b'34'        1.0         1.0   \n",
      "1  b'16000002'        NaN    b'2'  610.067762  b'28'        1.0         1.0   \n",
      "2  b'16000003'        1.0    b'1'  657.783409  b'17'        3.0         1.0   \n",
      "3  b'16000003'        1.0    b'1'  657.783409  b'17'        3.0         1.0   \n",
      "4  b'16000003'        1.0    b'1'  657.783409  b'17'        3.0         1.0   \n",
      "\n",
      "   CBSAFP_YN  METRO_YN  MPC_YN  ...  C_K2Q19  C_K2Q20  C_K2Q21  C_K2Q22  \\\n",
      "0        1.0       1.0     2.0  ...      2.0      NaN      NaN      2.0   \n",
      "1        1.0       2.0     NaN  ...      2.0      NaN      NaN      2.0   \n",
      "2        1.0       1.0     2.0  ...      2.0      NaN      NaN      2.0   \n",
      "3        1.0       1.0     2.0  ...      2.0      NaN      NaN      2.0   \n",
      "4        1.0       1.0     2.0  ...      2.0      NaN      NaN      2.0   \n",
      "\n",
      "   C_K2Q23  C_CSHCN       C_FWS  c_sex_if  c_hispanic_r_if  c_race_r_if  \n",
      "0      NaN      2.0  492.300350       NaN              NaN          NaN  \n",
      "1      NaN      2.0  746.435097       NaN              NaN          NaN  \n",
      "2      NaN      2.0  681.136084       NaN              NaN          NaN  \n",
      "3      NaN      2.0  770.046205       NaN              NaN          NaN  \n",
      "4      NaN      2.0  670.384971       NaN              NaN          NaN  \n",
      "\n",
      "[5 rows x 38 columns]\n"
     ]
    }
   ],
   "source": [
    "path2016 = \"../../../Raw Data/nsch_2016_screener_SAS/nsch_2016e_screener.sas7bdat\"\n",
    "df2016 = pd.read_sas(path2016, format=\"sas7bdat\")\n",
    "\n",
    "print(df2016.head())"
   ]
  },
  {
   "cell_type": "code",
   "execution_count": 24,
   "metadata": {},
   "outputs": [
    {
     "name": "stdout",
     "output_type": "stream",
     "text": [
      "  FIPSST STRATUM  TOTKIDS_R  HHLANGUAGE    YEAR  CBSAFP_YN  METRO_YN  MPC_YN  \\\n",
      "0  b'48'    b'1'        1.0         1.0  2017.0        1.0       1.0     1.0   \n",
      "1  b'23'    b'1'        1.0         1.0  2017.0        NaN       NaN     NaN   \n",
      "2  b'10'    b'1'        1.0         1.0  2017.0        1.0       1.0     NaN   \n",
      "3  b'08'    b'1'        2.0         1.0  2017.0        NaN       1.0     1.0   \n",
      "4  b'08'    b'1'        2.0         1.0  2017.0        NaN       1.0     1.0   \n",
      "\n",
      "         HHIDS          FWH  ...  C_K2Q16  C_K2Q17  C_K2Q18  C_K2Q19  C_K2Q20  \\\n",
      "0  b'17000001'  4444.214265  ...      2.0      NaN      NaN      2.0      NaN   \n",
      "1  b'17000002'   216.289147  ...      2.0      NaN      NaN      2.0      NaN   \n",
      "2  b'17000003'   171.137081  ...      2.0      NaN      NaN      2.0      NaN   \n",
      "3  b'17000004'   970.596831  ...      2.0      NaN      NaN      2.0      NaN   \n",
      "4  b'17000004'   970.596831  ...      1.0      2.0      NaN      2.0      NaN   \n",
      "\n",
      "   C_K2Q21  C_K2Q22  C_K2Q23  C_CSHCN        C_FWS  \n",
      "0      NaN      2.0      NaN      2.0  5553.852984  \n",
      "1      NaN      2.0      NaN      2.0   273.395019  \n",
      "2      NaN      2.0      NaN      2.0   224.056321  \n",
      "3      NaN      2.0      NaN      2.0   997.253638  \n",
      "4      NaN      2.0      NaN      2.0   997.253638  \n",
      "\n",
      "[5 rows x 38 columns]\n"
     ]
    }
   ],
   "source": [
    "path2017 = \"../../../Raw Data/nsch_2017_screener_SAS/nsch_2017e_screener.sas7bdat\"\n",
    "df2017 = pd.read_sas(path2017, format=\"sas7bdat\")\n",
    "\n",
    "print(df2017.head())"
   ]
  },
  {
   "cell_type": "code",
   "execution_count": 25,
   "metadata": {},
   "outputs": [
    {
     "name": "stdout",
     "output_type": "stream",
     "text": [
      "  FIPSST STRATUM  TOTKIDS_R  TENURE  HHLANGUAGE    YEAR  CBSAFP_YN  METRO_YN  \\\n",
      "0  b'24'    b'1'        2.0     1.0         2.0  2018.0        NaN       NaN   \n",
      "1  b'24'    b'1'        2.0     1.0         2.0  2018.0        NaN       NaN   \n",
      "2  b'22'    b'1'        1.0     1.0         1.0  2018.0        NaN       1.0   \n",
      "3  b'17'    b'1'        3.0     1.0         1.0  2018.0        2.0       2.0   \n",
      "4  b'17'    b'1'        3.0     1.0         1.0  2018.0        2.0       2.0   \n",
      "\n",
      "   MPC_YN  TENURE_IF  ... C_K2Q16  C_K2Q17  C_K2Q18  C_K2Q19  C_K2Q20  \\\n",
      "0     NaN        0.0  ...     2.0      NaN      NaN      2.0      NaN   \n",
      "1     NaN        0.0  ...     2.0      NaN      NaN      2.0      NaN   \n",
      "2     2.0        0.0  ...     2.0      NaN      NaN      2.0      NaN   \n",
      "3     2.0        0.0  ...     2.0      NaN      NaN      2.0      NaN   \n",
      "4     2.0        0.0  ...     2.0      NaN      NaN      2.0      NaN   \n",
      "\n",
      "   C_K2Q21  C_K2Q22  C_K2Q23  C_CSHCN        C_FWS  \n",
      "0      NaN      2.0      NaN      2.0  1345.436753  \n",
      "1      NaN      2.0      NaN      2.0  1352.653245  \n",
      "2      NaN      2.0      NaN      2.0   511.149302  \n",
      "3      NaN      2.0      NaN      2.0  1577.343183  \n",
      "4      NaN      1.0      1.0      1.0  1411.853601  \n",
      "\n",
      "[5 rows x 40 columns]\n"
     ]
    }
   ],
   "source": [
    "path2018 = \"../../../Raw Data/nsch_2018_screener_SAS/nsch_2018e_screener.sas7bdat\"\n",
    "df2018 = pd.read_sas(path2018, format=\"sas7bdat\")\n",
    "\n",
    "print(df2018.head())\n"
   ]
  },
  {
   "cell_type": "code",
   "execution_count": 26,
   "metadata": {},
   "outputs": [
    {
     "name": "stdout",
     "output_type": "stream",
     "text": [
      "  FIPSST STRATUM  TOTKIDS_R  TENURE  HHLANGUAGE    YEAR  CBSAFP_YN  METRO_YN  \\\n",
      "0  b'12'    b'1'        2.0     1.0         1.0  2019.0        NaN       1.0   \n",
      "1  b'12'    b'1'        2.0     1.0         1.0  2019.0        NaN       1.0   \n",
      "2  b'05'   b'2A'        2.0     1.0         1.0  2019.0        1.0       1.0   \n",
      "3  b'05'   b'2A'        2.0     1.0         1.0  2019.0        1.0       1.0   \n",
      "4  b'54'    b'1'        2.0     2.0         1.0  2019.0        NaN       NaN   \n",
      "\n",
      "   MPC_YN  TENURE_IF  ... C_K2Q16  C_K2Q17  C_K2Q18  C_K2Q19  C_K2Q20  \\\n",
      "0     2.0        0.0  ...     2.0      NaN      NaN      2.0      NaN   \n",
      "1     2.0        0.0  ...     2.0      NaN      NaN      2.0      NaN   \n",
      "2     1.0        0.0  ...     2.0      NaN      NaN      2.0      NaN   \n",
      "3     1.0        0.0  ...     2.0      NaN      NaN      2.0      NaN   \n",
      "4     NaN        0.0  ...     2.0      NaN      NaN      2.0      NaN   \n",
      "\n",
      "   C_K2Q21  C_K2Q22  C_K2Q23  C_CSHCN        C_FWS  \n",
      "0      NaN      2.0      NaN      2.0  3885.226800  \n",
      "1      NaN      2.0      NaN      2.0  3885.226800  \n",
      "2      NaN      2.0      NaN      2.0   995.689058  \n",
      "3      NaN      2.0      NaN      2.0  1009.795272  \n",
      "4      NaN      2.0      NaN      1.0   197.201056  \n",
      "\n",
      "[5 rows x 40 columns]\n"
     ]
    }
   ],
   "source": [
    "path2019 = \"../../../Raw Data/nsch_2019_screener_SAS/nsch_2019e_screener.sas7bdat\"\n",
    "df2019 = pd.read_sas(path2019, format=\"sas7bdat\")\n",
    "\n",
    "print(df2019.head())"
   ]
  },
  {
   "cell_type": "code",
   "execution_count": 27,
   "metadata": {},
   "outputs": [
    {
     "name": "stdout",
     "output_type": "stream",
     "text": [
      "  FIPSST STRATUM  TOTKIDS_R  TENURE  HHLANGUAGE    YEAR  CBSAFP_YN  METRO_YN  \\\n",
      "0  b'55'    b'1'        4.0     1.0         1.0  2020.0        1.0       2.0   \n",
      "1  b'55'    b'1'        4.0     1.0         1.0  2020.0        1.0       2.0   \n",
      "2  b'55'    b'1'        4.0     1.0         1.0  2020.0        1.0       2.0   \n",
      "3  b'55'    b'1'        4.0     1.0         1.0  2020.0        1.0       2.0   \n",
      "4  b'09'    b'1'        2.0     1.0         1.0  2020.0        1.0       NaN   \n",
      "\n",
      "   MPC_YN  TENURE_IF  ... C_K2Q16  C_K2Q17  C_K2Q18  C_K2Q19  C_K2Q20  \\\n",
      "0     2.0        0.0  ...     1.0      1.0      2.0      1.0      1.0   \n",
      "1     2.0        0.0  ...     2.0      NaN      NaN      2.0      NaN   \n",
      "2     2.0        0.0  ...     2.0      NaN      NaN      2.0      NaN   \n",
      "3     2.0        0.0  ...     2.0      NaN      NaN      2.0      NaN   \n",
      "4     2.0        0.0  ...     2.0      NaN      NaN      2.0      NaN   \n",
      "\n",
      "   C_K2Q21  C_K2Q22  C_K2Q23  C_CSHCN       C_FWS  \n",
      "0      2.0      2.0      NaN      2.0  266.116898  \n",
      "1      NaN      2.0      NaN      2.0  266.116898  \n",
      "2      NaN      2.0      NaN      2.0  266.116898  \n",
      "3      NaN      2.0      NaN      2.0  268.487018  \n",
      "4      NaN      2.0      NaN      2.0  581.430072  \n",
      "\n",
      "[5 rows x 40 columns]\n"
     ]
    }
   ],
   "source": [
    "path2020 = \"../../../Raw Data/nsch_2020_screener_SAS/nsch_2020e_screener.sas7bdat\"\n",
    "df2020 = pd.read_sas(path2020, format=\"sas7bdat\")\n",
    "\n",
    "print(df2020.head())"
   ]
  },
  {
   "cell_type": "code",
   "execution_count": 28,
   "metadata": {},
   "outputs": [
    {
     "name": "stdout",
     "output_type": "stream",
     "text": [
      "  FIPSST STRATUM  TOTKIDS_R  TENURE  HHLANGUAGE    YEAR  CBSAFP_YN  METRO_YN  \\\n",
      "0  b'56'    b'1'        2.0     1.0         1.0  2021.0        NaN       NaN   \n",
      "1  b'56'    b'1'        2.0     1.0         1.0  2021.0        NaN       NaN   \n",
      "2  b'54'    b'1'        2.0     1.0         1.0  2021.0        2.0       2.0   \n",
      "3  b'54'    b'1'        2.0     1.0         1.0  2021.0        2.0       2.0   \n",
      "4  b'41'    b'1'        1.0     1.0         1.0  2021.0        NaN       1.0   \n",
      "\n",
      "   MPC_YN  TENURE_IF  ... C_K2Q16  C_K2Q17  C_K2Q18  C_K2Q19  C_K2Q20  \\\n",
      "0     NaN        0.0  ...     1.0      1.0      1.0      1.0      1.0   \n",
      "1     NaN        0.0  ...     2.0      NaN      NaN      2.0      NaN   \n",
      "2     NaN        0.0  ...     2.0      NaN      NaN      2.0      NaN   \n",
      "3     NaN        0.0  ...     2.0      NaN      NaN      2.0      NaN   \n",
      "4     1.0        0.0  ...     2.0      NaN      NaN      2.0      NaN   \n",
      "\n",
      "   C_K2Q21  C_K2Q22  C_K2Q23  C_CSHCN       C_FWS  \n",
      "0      1.0      1.0      1.0      1.0  113.500517  \n",
      "1      NaN      2.0      NaN      2.0   80.461235  \n",
      "2      NaN      2.0      NaN      2.0   92.525425  \n",
      "3      NaN      2.0      NaN      2.0  101.262601  \n",
      "4      NaN      2.0      NaN      2.0  311.904927  \n",
      "\n",
      "[5 rows x 40 columns]\n"
     ]
    }
   ],
   "source": [
    "path2021 = \"../../../Raw Data/nsch_2021_screener_SAS/nsch_2021e_screener.sas7bdat\"\n",
    "df2021 = pd.read_sas(path2021, format=\"sas7bdat\")\n",
    "\n",
    "print(df2021.head())"
   ]
  },
  {
   "cell_type": "code",
   "execution_count": 29,
   "metadata": {},
   "outputs": [
    {
     "name": "stdout",
     "output_type": "stream",
     "text": [
      "  FIPSST STRATUM  TOTKIDS_R  TENURE  HHLANGUAGE    YEAR  CBSAFP_YN  METRO_YN  \\\n",
      "0  b'34'    b'1'        2.0     1.0         1.0  2022.0        1.0       1.0   \n",
      "1  b'34'    b'1'        2.0     1.0         1.0  2022.0        1.0       1.0   \n",
      "2  b'44'    b'1'        1.0     3.0         1.0  2022.0        1.0       1.0   \n",
      "3  b'09'    b'1'        2.0     1.0         1.0  2022.0        1.0       1.0   \n",
      "4  b'09'    b'1'        2.0     1.0         1.0  2022.0        1.0       1.0   \n",
      "\n",
      "   MPC_YN  TENURE_IF  ... C_K2Q16  C_K2Q17  C_K2Q18  C_K2Q19  C_K2Q20  \\\n",
      "0     2.0        0.0  ...     2.0      NaN      NaN      2.0      NaN   \n",
      "1     2.0        0.0  ...     2.0      NaN      NaN      2.0      NaN   \n",
      "2     2.0        0.0  ...     2.0      NaN      NaN      1.0      2.0   \n",
      "3     2.0        0.0  ...     2.0      NaN      NaN      2.0      NaN   \n",
      "4     2.0        0.0  ...     2.0      NaN      NaN      2.0      NaN   \n",
      "\n",
      "   C_K2Q21  C_K2Q22  C_K2Q23  C_CSHCN       C_FWS  \n",
      "0      NaN      2.0      NaN      2.0  532.752306  \n",
      "1      NaN      2.0      NaN      2.0  470.281997  \n",
      "2      NaN      2.0      NaN      2.0   68.494770  \n",
      "3      NaN      2.0      NaN      2.0  178.486313  \n",
      "4      NaN      2.0      NaN      2.0  178.486313  \n",
      "\n",
      "[5 rows x 38 columns]\n"
     ]
    }
   ],
   "source": [
    "path2022 = \"../../../Raw Data/nsch_2022_screener_SAS/nsch_2022e_screener.sas7bdat\"\n",
    "df2022 = pd.read_sas(path2022, format=\"sas7bdat\")\n",
    "\n",
    "print(df2022.head())"
   ]
  },
  {
   "cell_type": "code",
   "execution_count": 30,
   "metadata": {},
   "outputs": [
    {
     "name": "stdout",
     "output_type": "stream",
     "text": [
      "  FIPSST STRATUM  TOTKIDS_R  TENURE  HHLANGUAGE    YEAR  CBSAFP_YN  METRO_YN  \\\n",
      "0  b'28'    b'1'        3.0     1.0         1.0  2023.0        2.0       2.0   \n",
      "1  b'28'    b'1'        3.0     1.0         1.0  2023.0        2.0       2.0   \n",
      "2  b'28'    b'1'        3.0     1.0         1.0  2023.0        2.0       2.0   \n",
      "3  b'01'    b'1'        2.0     1.0         1.0  2023.0        1.0       1.0   \n",
      "4  b'01'    b'1'        2.0     1.0         1.0  2023.0        1.0       1.0   \n",
      "\n",
      "   MPC_YN  TENURE_IF  ... C_K2Q16  C_K2Q17  C_K2Q18  C_K2Q19  C_K2Q20  \\\n",
      "0     2.0        0.0  ...     2.0      NaN      NaN      2.0      NaN   \n",
      "1     2.0        0.0  ...     2.0      NaN      NaN      2.0      NaN   \n",
      "2     2.0        0.0  ...     2.0      NaN      NaN      2.0      NaN   \n",
      "3     2.0        0.0  ...     2.0      NaN      NaN      2.0      NaN   \n",
      "4     2.0        0.0  ...     2.0      NaN      NaN      2.0      NaN   \n",
      "\n",
      "   C_K2Q21  C_K2Q22  C_K2Q23  C_CSHCN       C_FWS  \n",
      "0      NaN      2.0      NaN      2.0  186.985073  \n",
      "1      NaN      2.0      NaN      2.0  162.893322  \n",
      "2      NaN      2.0      NaN      2.0  162.893322  \n",
      "3      NaN      2.0      NaN      2.0  264.080425  \n",
      "4      NaN      2.0      NaN      2.0  264.080425  \n",
      "\n",
      "[5 rows x 38 columns]\n"
     ]
    }
   ],
   "source": [
    "path2023 = \"../../../Raw Data/nsch_2023e_screener_SAS/nsch_2023e_screener.sas7bdat\"\n",
    "df2023 = pd.read_sas(path2023, format=\"sas7bdat\")\n",
    "\n",
    "print(df2023.head())"
   ]
  },
  {
   "cell_type": "markdown",
   "metadata": {},
   "source": [
    "## Combining Data into a Single csv"
   ]
  },
  {
   "cell_type": "code",
   "execution_count": 31,
   "metadata": {},
   "outputs": [
    {
     "name": "stdout",
     "output_type": "stream",
     "text": [
      "  Unique Household ID (Screener)  Child Speak English Sampling Stratum  \\\n",
      "0                    b'16000001'                  1.0             b'1'   \n",
      "1                    b'16000002'                  NaN             b'2'   \n",
      "2                    b'16000003'                  1.0             b'1'   \n",
      "3                    b'16000003'                  1.0             b'1'   \n",
      "4                    b'16000003'                  1.0             b'1'   \n",
      "\n",
      "   Household Weight State FIPS Code  Number of Children in Household  \\\n",
      "0        521.630828           b'34'                              1.0   \n",
      "1        610.067762           b'28'                              1.0   \n",
      "2        657.783409           b'17'                              3.0   \n",
      "3        657.783409           b'17'                              3.0   \n",
      "4        657.783409           b'17'                              3.0   \n",
      "\n",
      "   Primary Household Language  Core Based Statistical Area Status  \\\n",
      "0                         1.0                                 1.0   \n",
      "1                         1.0                                 1.0   \n",
      "2                         1.0                                 1.0   \n",
      "3                         1.0                                 1.0   \n",
      "4                         1.0                                 1.0   \n",
      "\n",
      "   Metropolitan Statistical Area Status  Metropolitan Principal City Status  \\\n",
      "0                                   1.0                                 2.0   \n",
      "1                                   2.0                                 NaN   \n",
      "2                                   1.0                                 2.0   \n",
      "3                                   1.0                                 2.0   \n",
      "4                                   1.0                                 2.0   \n",
      "\n",
      "   ...  Special Health Care Needs Status of Child  Child Weight  c_sex_if  \\\n",
      "0  ...                                        2.0    492.300350       NaN   \n",
      "1  ...                                        2.0    746.435097       NaN   \n",
      "2  ...                                        2.0    681.136084       NaN   \n",
      "3  ...                                        2.0    770.046205       NaN   \n",
      "4  ...                                        2.0    670.384971       NaN   \n",
      "\n",
      "   c_hispanic_r_if  c_race_r_if  Imputation Flag for C_RACE_R  \\\n",
      "0              NaN          NaN                           NaN   \n",
      "1              NaN          NaN                           NaN   \n",
      "2              NaN          NaN                           NaN   \n",
      "3              NaN          NaN                           NaN   \n",
      "4              NaN          NaN                           NaN   \n",
      "\n",
      "   Imputation Flag for C_HISPANIC_R  Imputation Flag for C_SEX  \\\n",
      "0                               NaN                        NaN   \n",
      "1                               NaN                        NaN   \n",
      "2                               NaN                        NaN   \n",
      "3                               NaN                        NaN   \n",
      "4                               NaN                        NaN   \n",
      "\n",
      "   The Conditions under Which Land or Buildings Are Held or Occupied  \\\n",
      "0                                                NaN                   \n",
      "1                                                NaN                   \n",
      "2                                                NaN                   \n",
      "3                                                NaN                   \n",
      "4                                                NaN                   \n",
      "\n",
      "   TENURE_IF  \n",
      "0        NaN  \n",
      "1        NaN  \n",
      "2        NaN  \n",
      "3        NaN  \n",
      "4        NaN  \n",
      "\n",
      "[5 rows x 43 columns]\n"
     ]
    }
   ],
   "source": [
    "## Combining all of the datat into a single df to run all of them at once since the code dictionsary is the same for all\n",
    "\n",
    "df = pd.concat([df2016, df2017, df2018, df2019, df2020, df2021, df2022, df2023], ignore_index=True)\n",
    "\n",
    "def extract_labels(codebook_file):\n",
    "    labels_dict = {}\n",
    "    with open(codebook_file, 'r') as f:\n",
    "        codebook_text = f.read()\n",
    "    \n",
    "    label_pattern = re.compile(r'(\\w+)\\s*=\\s*\"(.+?)\"')\n",
    "    \n",
    "    for match in label_pattern.finditer(codebook_text):\n",
    "        var_name = match.group(1)\n",
    "        var_label = match.group(2)\n",
    "        labels_dict[var_name] = var_label\n",
    "    \n",
    "    return labels_dict\n",
    "\n",
    "labels = extract_labels(code_dictionary)\n",
    "\n",
    "df_renamed = df.rename(columns=labels)\n",
    "\n",
    "print(df_renamed.head())"
   ]
  },
  {
   "cell_type": "code",
   "execution_count": 32,
   "metadata": {},
   "outputs": [
    {
     "name": "stdout",
     "output_type": "stream",
     "text": [
      "  Unique Household ID (Screener)  Child Speak English Sampling Stratum  \\\n",
      "0                    b'16000001'                  1.0             b'1'   \n",
      "1                    b'16000002'                  NaN             b'2'   \n",
      "2                    b'16000003'                  1.0             b'1'   \n",
      "3                    b'16000003'                  1.0             b'1'   \n",
      "4                    b'16000003'                  1.0             b'1'   \n",
      "\n",
      "   Household Weight State FIPS Code  Number of Children in Household  \\\n",
      "0        521.630828           b'34'                              1.0   \n",
      "1        610.067762           b'28'                              1.0   \n",
      "2        657.783409           b'17'                              3.0   \n",
      "3        657.783409           b'17'                              3.0   \n",
      "4        657.783409           b'17'                              3.0   \n",
      "\n",
      "   Primary Household Language  Core Based Statistical Area Status  \\\n",
      "0                         1.0                                 1.0   \n",
      "1                         1.0                                 1.0   \n",
      "2                         1.0                                 1.0   \n",
      "3                         1.0                                 1.0   \n",
      "4                         1.0                                 1.0   \n",
      "\n",
      "   Metropolitan Statistical Area Status  Metropolitan Principal City Status  \\\n",
      "0                                   1.0                                 2.0   \n",
      "1                                   2.0                                 NaN   \n",
      "2                                   1.0                                 2.0   \n",
      "3                                   1.0                                 2.0   \n",
      "4                                   1.0                                 2.0   \n",
      "\n",
      "   ...  Special Health Care Needs Status of Child  Child Weight  c_sex_if  \\\n",
      "0  ...                                        2.0    492.300350       NaN   \n",
      "1  ...                                        2.0    746.435097       NaN   \n",
      "2  ...                                        2.0    681.136084       NaN   \n",
      "3  ...                                        2.0    770.046205       NaN   \n",
      "4  ...                                        2.0    670.384971       NaN   \n",
      "\n",
      "   c_hispanic_r_if  c_race_r_if  Imputation Flag for C_RACE_R  \\\n",
      "0              NaN          NaN                           NaN   \n",
      "1              NaN          NaN                           NaN   \n",
      "2              NaN          NaN                           NaN   \n",
      "3              NaN          NaN                           NaN   \n",
      "4              NaN          NaN                           NaN   \n",
      "\n",
      "   Imputation Flag for C_HISPANIC_R  Imputation Flag for C_SEX  \\\n",
      "0                               NaN                        NaN   \n",
      "1                               NaN                        NaN   \n",
      "2                               NaN                        NaN   \n",
      "3                               NaN                        NaN   \n",
      "4                               NaN                        NaN   \n",
      "\n",
      "   The Conditions under Which Land or Buildings Are Held or Occupied  \\\n",
      "0                                                NaN                   \n",
      "1                                                NaN                   \n",
      "2                                                NaN                   \n",
      "3                                                NaN                   \n",
      "4                                                NaN                   \n",
      "\n",
      "   TENURE_IF  \n",
      "0        NaN  \n",
      "1        NaN  \n",
      "2        NaN  \n",
      "3        NaN  \n",
      "4        NaN  \n",
      "\n",
      "[5 rows x 43 columns]\n"
     ]
    }
   ],
   "source": [
    "# Function to extract value labels from codebook\n",
    "def extract_value_labels(codebook_file):\n",
    "    value_labels_dict = {}\n",
    "    with open(codebook_file, 'r') as f:\n",
    "        codebook_text = f.read()\n",
    "    \n",
    "    # Regular expression to match value labels\n",
    "    value_pattern = re.compile(r'VALUE\\s+(\\w+)_LAB\\s+(.+?);', re.DOTALL)\n",
    "    \n",
    "    for match in value_pattern.finditer(codebook_text):\n",
    "        var_name = match.group(1)\n",
    "        value_labels_text = match.group(2)\n",
    "        \n",
    "        # Extract individual value mappings\n",
    "        value_dict = {}\n",
    "        for value_match in re.finditer(r'(\\S+)=\\'(.+?)\\'', value_labels_text):\n",
    "            value = value_match.group(1)\n",
    "            label = value_match.group(2)\n",
    "            value_dict[value] = label\n",
    "        \n",
    "        value_labels_dict[var_name] = value_dict\n",
    "    \n",
    "    return value_labels_dict\n",
    "\n",
    "# Extract value labels from the codebook\n",
    "value_labels = extract_value_labels(code_dictionary)\n",
    "\n",
    "# Apply value labels to respective columns\n",
    "for var, mapping in value_labels.items():\n",
    "    if var in df_renamed.columns:\n",
    "        df_renamed[var] = df_renamed[var].map(mapping)\n",
    "\n",
    "# Check the updated DataFrame with value labels applied\n",
    "print(df_renamed.head())\n"
   ]
  },
  {
   "cell_type": "code",
   "execution_count": 33,
   "metadata": {},
   "outputs": [
    {
     "name": "stdout",
     "output_type": "stream",
     "text": [
      "       YEAR  C_CSHCN  C_K2Q23  C_K2Q22  C_K2Q21  C_K2Q20  C_K2Q19  C_SEX  \\\n",
      "13   2016.0      1.0      1.0      1.0      1.0      1.0      1.0    2.0   \n",
      "35   2016.0      1.0      1.0      1.0      1.0      1.0      1.0    1.0   \n",
      "81   2016.0      1.0      1.0      1.0      1.0      1.0      1.0    2.0   \n",
      "128  2016.0      1.0      1.0      1.0      1.0      1.0      1.0    1.0   \n",
      "256  2016.0      1.0      1.0      1.0      1.0      1.0      1.0    2.0   \n",
      "\n",
      "     C_AGE_YEARS  \n",
      "13           1.0  \n",
      "35          15.0  \n",
      "81          16.0  \n",
      "128         10.0  \n",
      "256          8.0  \n",
      "C_SEX\n",
      "1.0    20977\n",
      "2.0    10779\n",
      "dtype: int64\n"
     ]
    }
   ],
   "source": [
    "selected_columns = [\n",
    "    'YEAR',      # Survey Year\n",
    "    'C_CSHCN',   # Special Healthcare Needs\n",
    "    'C_K2Q23',   # Child Treatment for Chronic Emotion Develop Behave\n",
    "    'C_K2Q22',   # Child Needs Treatment for Emotional Develop Behave\n",
    "    'C_K2Q21',   # Child Special Therapy for Health Condition for 12 Months\n",
    "    'C_K2Q20',   # Child Specal Therapy for Health Condition\n",
    "    'C_K2Q19',   # Child Special Therapy\n",
    "    'C_SEX',     # Child Sex\n",
    "    'C_AGE_YEARS'  #Child Age - Years\n",
    "]\n",
    "\n",
    "df_filtered = df[selected_columns]\n",
    "\n",
    "df_cleaned = df_filtered.dropna()  # Or use df_filtered.fillna() to replace missing values\n",
    "\n",
    "print(df_cleaned.head())\n",
    "\n",
    "grouped_by_sex = df_cleaned.groupby('C_SEX').size()\n",
    "\n",
    "print(grouped_by_sex)"
   ]
  },
  {
   "cell_type": "markdown",
   "metadata": {},
   "source": []
  },
  {
   "cell_type": "code",
   "execution_count": 36,
   "metadata": {},
   "outputs": [
    {
     "name": "stdout",
     "output_type": "stream",
     "text": [
      "     Survey Year Special Health Care Needs Status of Child  \\\n",
      "13          2016                 Special Health Care Needs   \n",
      "35          2016                 Special Health Care Needs   \n",
      "81          2016                 Special Health Care Needs   \n",
      "128         2016                 Special Health Care Needs   \n",
      "256         2016                 Special Health Care Needs   \n",
      "\n",
      "    Child Treatment for Chronic Emotion Develop Behave  \\\n",
      "13                                                 Yes   \n",
      "35                                                 Yes   \n",
      "81                                                 Yes   \n",
      "128                                                Yes   \n",
      "256                                                Yes   \n",
      "\n",
      "    Child Needs Treatment for Emotion Develop Behave  \\\n",
      "13                                               Yes   \n",
      "35                                               Yes   \n",
      "81                                               Yes   \n",
      "128                                              Yes   \n",
      "256                                              Yes   \n",
      "\n",
      "    Child Special Therapy for Health Condition for 12 Months  \\\n",
      "13                                                 Yes         \n",
      "35                                                 Yes         \n",
      "81                                                 Yes         \n",
      "128                                                Yes         \n",
      "256                                                Yes         \n",
      "\n",
      "    Child Special Therapy for Health Condition Child Special Therapy  \\\n",
      "13                                         Yes                   Yes   \n",
      "35                                         Yes                   Yes   \n",
      "81                                         Yes                   Yes   \n",
      "128                                        Yes                   Yes   \n",
      "256                                        Yes                   Yes   \n",
      "\n",
      "    Child Sex  Child Age - Years  Childs Age - Years  \n",
      "13     Female                1.0                   1  \n",
      "35       Male               15.0                  15  \n",
      "81     Female               16.0                  16  \n",
      "128      Male               10.0                  10  \n",
      "256    Female                8.0                   8  \n"
     ]
    },
    {
     "name": "stderr",
     "output_type": "stream",
     "text": [
      "/var/folders/m9/nwvp3yqj5f76trygypnkypv80000gp/T/ipykernel_4250/77689711.py:13: SettingWithCopyWarning: \n",
      "A value is trying to be set on a copy of a slice from a DataFrame\n",
      "\n",
      "See the caveats in the documentation: https://pandas.pydata.org/pandas-docs/stable/user_guide/indexing.html#returning-a-view-versus-a-copy\n",
      "  df_cleaned.rename(columns=column_mapping, inplace=True)\n",
      "/var/folders/m9/nwvp3yqj5f76trygypnkypv80000gp/T/ipykernel_4250/77689711.py:26: FutureWarning: A value is trying to be set on a copy of a DataFrame or Series through chained assignment using an inplace method.\n",
      "The behavior will change in pandas 3.0. This inplace method will never work because the intermediate object on which we are setting values always behaves as a copy.\n",
      "\n",
      "For example, when doing 'df[col].method(value, inplace=True)', try using 'df.method({col: value}, inplace=True)' or df[col] = df[col].method(value) instead, to perform the operation inplace on the original object.\n",
      "\n",
      "\n",
      "  df_cleaned[column].replace(mapping, inplace=True)\n",
      "/var/folders/m9/nwvp3yqj5f76trygypnkypv80000gp/T/ipykernel_4250/77689711.py:26: SettingWithCopyWarning: \n",
      "A value is trying to be set on a copy of a slice from a DataFrame\n",
      "\n",
      "See the caveats in the documentation: https://pandas.pydata.org/pandas-docs/stable/user_guide/indexing.html#returning-a-view-versus-a-copy\n",
      "  df_cleaned[column].replace(mapping, inplace=True)\n",
      "/var/folders/m9/nwvp3yqj5f76trygypnkypv80000gp/T/ipykernel_4250/77689711.py:28: SettingWithCopyWarning: \n",
      "A value is trying to be set on a copy of a slice from a DataFrame.\n",
      "Try using .loc[row_indexer,col_indexer] = value instead\n",
      "\n",
      "See the caveats in the documentation: https://pandas.pydata.org/pandas-docs/stable/user_guide/indexing.html#returning-a-view-versus-a-copy\n",
      "  df_cleaned['Survey Year'] = df_cleaned['Survey Year'].astype(int)\n",
      "/var/folders/m9/nwvp3yqj5f76trygypnkypv80000gp/T/ipykernel_4250/77689711.py:29: SettingWithCopyWarning: \n",
      "A value is trying to be set on a copy of a slice from a DataFrame.\n",
      "Try using .loc[row_indexer,col_indexer] = value instead\n",
      "\n",
      "See the caveats in the documentation: https://pandas.pydata.org/pandas-docs/stable/user_guide/indexing.html#returning-a-view-versus-a-copy\n",
      "  df_cleaned['Childs Age - Years'] = df_cleaned['Child Age - Years'].astype(int)\n"
     ]
    }
   ],
   "source": [
    "column_mapping = {\n",
    "    'YEAR':'Survey Year',\n",
    "    'C_CSHCN': 'Special Health Care Needs Status of Child',\n",
    "    'C_K2Q23': 'Child Treatment for Chronic Emotion Develop Behave',\n",
    "    'C_K2Q22': 'Child Needs Treatment for Emotion Develop Behave',\n",
    "    'C_K2Q21': 'Child Special Therapy for Health Condition for 12 Months',\n",
    "    'C_K2Q20': 'Child Special Therapy for Health Condition',\n",
    "    'C_K2Q19': 'Child Special Therapy',\n",
    "    'C_SEX': 'Child Sex',\n",
    "    'C_AGE_YEARS': 'Child Age - Years'\n",
    "}\n",
    "\n",
    "df_cleaned.rename(columns=column_mapping, inplace=True)\n",
    "\n",
    "value_mappings = {\n",
    "    'Special Health Care Needs Status of Child': {1: 'Special Health Care Needs', 2: 'No Special Health Care Needs'},\n",
    "    'Child Treatment for Chronic Emotion Develop Behave': {1: 'Yes', 2: 'No'},\n",
    "    'Child Needs Treatment for Emotion Develop Behave': {1: 'Yes', 2: 'No'},\n",
    "    'Child Special Therapy for Health Condition for 12 Months': {1: 'Yes', 2: 'No'},\n",
    "    'Child Special Therapy for Health Condition': {1: 'Yes', 2: 'No'},\n",
    "    'Child Special Therapy': {1: 'Yes', 2: 'No'},\n",
    "    'Child Sex': {1: 'Male', 2: 'Female'},\n",
    "}\n",
    "\n",
    "for column, mapping in value_mappings.items():\n",
    "    df_cleaned[column].replace(mapping, inplace=True)\n",
    "\n",
    "df_cleaned['Survey Year'] = df_cleaned['Survey Year'].astype(int)\n",
    "df_cleaned['Childs Age - Years'] = df_cleaned['Child Age - Years'].astype(int)\n",
    "\n",
    "print(df_cleaned.head())\n",
    "df_cleaned.to_csv(\"../../../Cleaned Data/filteredNSCH.csv\", index=False)"
   ]
  },
  {
   "cell_type": "code",
   "execution_count": null,
   "metadata": {},
   "outputs": [],
   "source": []
  }
 ],
 "metadata": {
  "kernelspec": {
   "display_name": "UCB",
   "language": "python",
   "name": "python3"
  },
  "language_info": {
   "codemirror_mode": {
    "name": "ipython",
    "version": 3
   },
   "file_extension": ".py",
   "mimetype": "text/x-python",
   "name": "python",
   "nbconvert_exporter": "python",
   "pygments_lexer": "ipython3",
   "version": "3.12.4"
  }
 },
 "nbformat": 4,
 "nbformat_minor": 2
}
