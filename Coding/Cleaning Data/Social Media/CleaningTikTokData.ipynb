{
 "cells": [
  {
   "cell_type": "code",
   "execution_count": 19,
   "metadata": {},
   "outputs": [],
   "source": [
    "import pandas as pd\n",
    "import numpy as np\n",
    "from datetime import datetime"
   ]
  },
  {
   "cell_type": "code",
   "execution_count": 20,
   "metadata": {},
   "outputs": [
    {
     "name": "stderr",
     "output_type": "stream",
     "text": [
      "/var/folders/m9/nwvp3yqj5f76trygypnkypv80000gp/T/ipykernel_18104/706908141.py:2: DtypeWarning: Columns (28,31,34,37,40,43,133,145,149,153,156,161,164,165,169,173,176,177,181,184,185,189,192,193,196,197,200,201,204,205,208,209,212,213,216,217,220,221,224,225,228,229,232,233,236,237,240,241,244,245,248,249,252,256,257,260,265,268,269,272,277,280,281,284,292,296,299,301,303,304,305,307,308,311,313,315,319,321,323,324,327,328,329,331,332,335,336,339,343,344,347,351,355,359,363,367,369,371,372,375,379,383,387,391,392,395,396,399,403,404,407,411,415,417,419,423,427,428,429,431,432,435,439,441,443,447,451,455,459,463,467,471,472,473,475,476,479,483,487,491,495,496,499,503,507,511,515,519,523,527,529,531,535,539,543,545,547,551,552,553,555,556,559,563,564,567,568,571,573,575,576,579,583,587,588,591,592,595,599,603,607,608,611,615,619,623,627,631,635,639,643,647,651,652,655,659,663,667,671,672,675,679,683,687,691,695,697,699,703,707,711,715,719,720,723,727,731,732,735,739,743,747,751,755,756,757,759,760,763,776,777,778,779,780,781,782,783,784,785,786,787,788,789,790,791,792,793,794,795,796,797,798,799,800,801,802,803,804,805,806,807,808,809,810,811,812,813,814,815,816,817,818,819,820,821,822,823,824,825,826,827,828,829,830,831,832,833,834,835,836,837,838,839,840,841,961,962,963,964,965,966,967,968,969,970,971,972,973,974,975,976,977,978,979,980,981,982,983,984) have mixed types. Specify dtype option on import or set low_memory=False.\n",
      "  TikTok_df = pd.read_csv('/Users/kaylabiddle/Desktop/TiktokChangedASD/Raw Data/TikTokData.csv', skiprows=1)\n"
     ]
    },
    {
     "name": "stdout",
     "output_type": "stream",
     "text": [
      "                                   authorMeta/avatar  authorMeta/bioLink  \\\n",
      "0  https://p16-sign-va.tiktokcdn.com/tos-maliva-a...                 NaN   \n",
      "1  https://p16-pu-sign-useast8.tiktokcdn-us.com/t...                 NaN   \n",
      "2  https://p19-pu-sign-useast8.tiktokcdn-us.com/t...                 NaN   \n",
      "3  https://p19-pu-sign-useast8.tiktokcdn-us.com/t...                 NaN   \n",
      "4  https://p16-pu-sign-useast8.tiktokcdn-us.com/t...                 NaN   \n",
      "\n",
      "   authorMeta/digg  authorMeta/fans  authorMeta/following  authorMeta/heart  \\\n",
      "0            67700            86000                  2095           4200000   \n",
      "1            10800             8874                  1466            228000   \n",
      "2            23800             5172                   258            877500   \n",
      "3            37100            30000                  1291            701500   \n",
      "4             9462            21500                  2822            301600   \n",
      "\n",
      "         authorMeta/id     authorMeta/name           authorMeta/nickName  \\\n",
      "0  6930309020264023046       alasiabeautyy                 Alasiabeautyy   \n",
      "1  6874345094452085766  happilydannirivera  Danni║Lifestyle ║Toddler Mom   \n",
      "2  7190429985778664494           _1shrkb0y    Arthur Morgan’s husband 🤎🦌   \n",
      "3  6772788400980657158     mamameeekssss_l               Mamameeekssss_l   \n",
      "4  6656350818386788357      gretelroxystar                  Sydney’s mom   \n",
      "\n",
      "   authorMeta/privateAccount  ... videoMeta/subtitleLinks/38/language  \\\n",
      "0                      False  ...                                 NaN   \n",
      "1                      False  ...                                 NaN   \n",
      "2                      False  ...                                 NaN   \n",
      "3                      False  ...                                 NaN   \n",
      "4                      False  ...                                 NaN   \n",
      "\n",
      "   videoMeta/subtitleLinks/38/tiktokLink  \\\n",
      "0                                    NaN   \n",
      "1                                    NaN   \n",
      "2                                    NaN   \n",
      "3                                    NaN   \n",
      "4                                    NaN   \n",
      "\n",
      "  videoMeta/subtitleLinks/39/downloadLink  \\\n",
      "0                                     NaN   \n",
      "1                                     NaN   \n",
      "2                                     NaN   \n",
      "3                                     NaN   \n",
      "4                                     NaN   \n",
      "\n",
      "   videoMeta/subtitleLinks/39/language  videoMeta/subtitleLinks/39/tiktokLink  \\\n",
      "0                                  NaN                                    NaN   \n",
      "1                                  NaN                                    NaN   \n",
      "2                                  NaN                                    NaN   \n",
      "3                                  NaN                                    NaN   \n",
      "4                                  NaN                                    NaN   \n",
      "\n",
      "   videoMeta/subtitleLinks/40/downloadLink  \\\n",
      "0                                      NaN   \n",
      "1                                      NaN   \n",
      "2                                      NaN   \n",
      "3                                      NaN   \n",
      "4                                      NaN   \n",
      "\n",
      "   videoMeta/subtitleLinks/40/language  videoMeta/subtitleLinks/40/tiktokLink  \\\n",
      "0                                  NaN                                    NaN   \n",
      "1                                  NaN                                    NaN   \n",
      "2                                  NaN                                    NaN   \n",
      "3                                  NaN                                    NaN   \n",
      "4                                  NaN                                    NaN   \n",
      "\n",
      "   videoMeta/width                                        webVideoUrl  \n",
      "0              576  https://www.tiktok.com/@alasiabeautyy/video/73...  \n",
      "1              576  https://www.tiktok.com/@happilydannirivera/vid...  \n",
      "2              576  https://www.tiktok.com/@_1shrkb0y/video/729106...  \n",
      "3              576  https://www.tiktok.com/@mamameeekssss_l/video/...  \n",
      "4              576  https://www.tiktok.com/@gretelroxystar/video/7...  \n",
      "\n",
      "[5 rows x 987 columns]\n",
      "<class 'pandas.core.frame.DataFrame'>\n",
      "RangeIndex: 6024 entries, 0 to 6023\n",
      "Columns: 987 entries, authorMeta/avatar to webVideoUrl\n",
      "dtypes: bool(8), float64(395), int64(18), object(566)\n",
      "memory usage: 45.0+ MB\n",
      "None\n"
     ]
    }
   ],
   "source": [
    "# Load in the csv \n",
    "TikTok_df = pd.read_csv('/Users/kaylabiddle/Desktop/TiktokChangedASD/Raw Data/TikTokData.csv', skiprows=1)\n",
    "\n",
    "# Check the first few rows\n",
    "print(TikTok_df.head())\n",
    "\n",
    "# Data types and any missing values\n",
    "print(TikTok_df.info())"
   ]
  },
  {
   "cell_type": "code",
   "execution_count": 21,
   "metadata": {},
   "outputs": [],
   "source": [
    "# Remove duplicate rows\n",
    "TikTok_df.drop_duplicates(inplace=True)"
   ]
  },
  {
   "cell_type": "code",
   "execution_count": 22,
   "metadata": {},
   "outputs": [
    {
     "name": "stdout",
     "output_type": "stream",
     "text": [
      "Index(['authorMeta/avatar', 'authorMeta/bioLink', 'authorMeta/digg',\n",
      "       'authorMeta/fans', 'authorMeta/following', 'authorMeta/heart',\n",
      "       'authorMeta/id', 'authorMeta/name', 'authorMeta/nickName',\n",
      "       'authorMeta/privateAccount',\n",
      "       ...\n",
      "       'videoMeta/subtitleLinks/38/language',\n",
      "       'videoMeta/subtitleLinks/38/tiktokLink',\n",
      "       'videoMeta/subtitleLinks/39/downloadLink',\n",
      "       'videoMeta/subtitleLinks/39/language',\n",
      "       'videoMeta/subtitleLinks/39/tiktokLink',\n",
      "       'videoMeta/subtitleLinks/40/downloadLink',\n",
      "       'videoMeta/subtitleLinks/40/language',\n",
      "       'videoMeta/subtitleLinks/40/tiktokLink', 'videoMeta/width',\n",
      "       'webVideoUrl'],\n",
      "      dtype='object', length=987)\n"
     ]
    }
   ],
   "source": [
    "print(TikTok_df.columns)"
   ]
  },
  {
   "cell_type": "code",
   "execution_count": 23,
   "metadata": {},
   "outputs": [
    {
     "name": "stdout",
     "output_type": "stream",
     "text": [
      "   authorMeta/fans  authorMeta/heart        authorMeta/id     authorMeta/name  \\\n",
      "0            86000           4200000  6930309020264023046       alasiabeautyy   \n",
      "1             8874            228000  6874345094452085766  happilydannirivera   \n",
      "2             5172            877500  7190429985778664494           _1shrkb0y   \n",
      "3            30000            701500  6772788400980657158     mamameeekssss_l   \n",
      "4            21500            301600  6656350818386788357      gretelroxystar   \n",
      "\n",
      "            authorMeta/nickName  commentCount  createTime  \\\n",
      "0                 Alasiabeautyy          5776  1714758918   \n",
      "1  Danni║Lifestyle ║Toddler Mom           435  1702096586   \n",
      "2    Arthur Morgan’s husband 🤎🦌          2927  1697583198   \n",
      "3               Mamameeekssss_l         15000  1711654932   \n",
      "4                  Sydney’s mom          3456  1716301348   \n",
      "\n",
      "              createTimeISO  hashtags/0/name   hashtags/1/name  ...  \\\n",
      "0  2024-05-03T17:55:18.000Z  autismawareness            autism  ...   \n",
      "1  2023-12-09T04:36:26.000Z  autismawareness  autismacceptance  ...   \n",
      "2  2023-10-17T22:53:18.000Z           autism   autismawareness  ...   \n",
      "3  2024-03-28T19:42:12.000Z  autismawareness  autismacceptance  ...   \n",
      "4  2024-05-21T14:22:28.000Z  autismawareness    level3autistic  ...   \n",
      "\n",
      "  hashtags/177/name hashtags/178/name hashtags/179/name                   id  \\\n",
      "0               NaN               NaN               NaN  7364833433438162219   \n",
      "1               NaN               NaN               NaN  7310449100325965099   \n",
      "2               NaN               NaN               NaN  7291064286254845215   \n",
      "3               NaN               NaN               NaN  7351501827667447083   \n",
      "4               NaN               NaN               NaN  7371458117848108331   \n",
      "\n",
      "  playCount searchHashtag/name searchHashtag/views shareCount  \\\n",
      "0   4700000    autismawareness         21100000000      23300   \n",
      "1   3300000    autismawareness         21100000000       1791   \n",
      "2   3400000    autismawareness         21100000000      30700   \n",
      "3  11100000    autismawareness         21100000000      12800   \n",
      "4   5100000    autismawareness         21100000000       7641   \n",
      "\n",
      "                                                text videoMeta/duration  \n",
      "0  Baddies have autism too ❤️#AutismAwareness #Au...                 74  \n",
      "1  These are to funny and to relateble to not joi...                 33  \n",
      "2  I love this movie. Aaron is so me #autism #aut...                 28  \n",
      "3  I’m not sad he’s autistic. I’m sad he has to s...                 12  \n",
      "4  Im at a total loss. I need help. Do a put plyw...                121  \n",
      "\n",
      "[5 rows x 195 columns]\n"
     ]
    }
   ],
   "source": [
    "# Removing unwanted columns\n",
    "hashtag_cover = [col for col in TikTok_df.columns if col.startswith('hashtags/') and col.endswith('/cover')]\n",
    "hashtag_title = [col for col in TikTok_df.columns if col.startswith('hashtags/') and col.endswith('/title')]\n",
    "hashtag_id = [col for col in TikTok_df.columns if col.startswith('hashtags/') and col.endswith('/id')]\n",
    "mentions = [col for col in TikTok_df.columns if col.startswith('mentions/')]\n",
    "videoMeta = [col for col in TikTok_df.columns if col.startswith('videoMeta/') and any(col.endswith(suffix) for suffix in ['/downloadLink', '/language', '/tiktokLink'])]\n",
    "\n",
    "# Combine columns to drop\n",
    "columns_to_drop = hashtag_cover + hashtag_title + hashtag_id + mentions + videoMeta + [\n",
    "    'collectCount', 'mediaUrls/0', 'musicMeta/coverMediumUrl', 'musicMeta/musicAlbum', 'musicMeta/musicAuthor',\n",
    "    'musicMeta/musicId', 'musicMeta/musicName', 'musicMeta/musicOriginal', 'musicMeta/playUrl',\n",
    "    'videoMeta/coverUrl', 'videoMeta/format', 'videoMeta/height', 'videoMeta/originalCoverUrl', \n",
    "    'videoMeta/originalDownloadAddr', 'videoMeta/definition', 'videoMeta/downloadAddr','videoMeta/width','webVideoUrl', 'authorMeta/avatar', 'authorMeta/bioLink', 'authorMeta/digg',\n",
    "    'authorMeta/following', 'authorMeta/privateAccount', 'authorMeta/profileUrl',\n",
    "    'authorMeta/roomId', 'authorMeta/signature', 'authorMeta/ttSeller',\n",
    "    'authorMeta/verified', 'diggCount', 'effectStickers/0/ID', 'effectStickers/0/name', 'effectStickers/0/stickerStats/useCount',\n",
    "    'effectStickers/1/ID', 'effectStickers/1/name', 'effectStickers/1/stickerStats/useCount',\n",
    "    'effectStickers/2/ID', 'effectStickers/2/name', 'effectStickers/2/stickerStats/useCount',\n",
    "    'effectStickers/3/ID', 'effectStickers/3/name', 'effectStickers/3/stickerStats/useCount',\n",
    "    'effectStickers/4/ID', 'effectStickers/4/name', 'effectStickers/4/stickerStats/useCount',\n",
    "    'effectStickers/5/ID', 'effectStickers/5/name', 'effectStickers/5/stickerStats/useCount',\n",
    "    'effectStickers/6/ID', 'effectStickers/6/name', 'effectStickers/6/stickerStats/useCount',\n",
    "    'effectStickers/7/ID', 'effectStickers/7/name', 'effectStickers/7/stickerStats/useCount', 'isAd', 'isMuted', 'isPinned', 'isSlideshow', 'authorMeta/video', 'input',\n",
    "]\n",
    "\n",
    "# Drop the identified columns\n",
    "df_cleaned = TikTok_df.drop(columns=columns_to_drop, errors='ignore')\n",
    "\n",
    "# Display the first few rows of the cleaned DataFrame to confirm\n",
    "print(df_cleaned.head())\n",
    "\n",
    "# Save the cleaned DataFrame to a new CSV file\n",
    "df_cleaned.to_csv('/Users/kaylabiddle/Desktop/TiktokChangedASD/Cleaned Data/cleaned_tiktok_data.csv', index=False)"
   ]
  },
  {
   "cell_type": "code",
   "execution_count": 24,
   "metadata": {},
   "outputs": [],
   "source": [
    "# Combine all hashtag columns into a single column\n",
    "hashtag_columns = [col for col in df_cleaned.columns if col.startswith('hashtags/') and col.endswith('/name')]\n",
    "df_cleaned['combined_hashtags'] = df_cleaned[hashtag_columns].fillna('').agg('|'.join, axis=1)\n",
    "\n",
    "# Remove empty or separator-only entries in the 'combined_hashtags' column\n",
    "df_cleaned['combined_hashtags'] = df_cleaned['combined_hashtags'].apply(lambda x: '|'.join([tag for tag in x.split('|') if tag.strip()]))  # Remove empty tags\n",
    "\n",
    "# Drop rows where 'combined_hashtags' is now empty\n",
    "df_cleaned = df_cleaned[df_cleaned['combined_hashtags'].str.strip() != '']\n",
    "\n",
    "# Drop original hashtag columns if no longer needed\n",
    "df_cleaned = df_cleaned.drop(columns=hashtag_columns)\n",
    "\n",
    "# Save the cleaned DataFrame to a new CSV file\n",
    "df_cleaned.to_csv('/Users/kaylabiddle/Desktop/TiktokChangedASD/Cleaned Data/cleaned_tiktok_data.csv', index=False)"
   ]
  },
  {
   "cell_type": "code",
   "execution_count": 25,
   "metadata": {},
   "outputs": [
    {
     "name": "stdout",
     "output_type": "stream",
     "text": [
      "Index(['authorMeta/fans', 'authorMeta/heart', 'authorMeta/id',\n",
      "       'authorMeta/name', 'authorMeta/nickName', 'commentCount', 'createTime',\n",
      "       'createTimeISO', 'id', 'playCount', 'searchHashtag/name',\n",
      "       'searchHashtag/views', 'shareCount', 'text', 'videoMeta/duration',\n",
      "       'combined_hashtags'],\n",
      "      dtype='object')\n"
     ]
    }
   ],
   "source": [
    "cleandata = pd.read_csv('/Users/kaylabiddle/Desktop/TiktokChangedASD/Cleaned Data/cleaned_tiktok_data.csv')\n",
    "print(cleandata.columns)"
   ]
  },
  {
   "cell_type": "code",
   "execution_count": 26,
   "metadata": {},
   "outputs": [
    {
     "name": "stdout",
     "output_type": "stream",
     "text": [
      "Index(['Fans', 'Likes', 'UserID', 'UserName', 'NickName', 'CommentsCount',\n",
      "       'createTime', 'createTimeISO', 'VideoID', 'Views', 'TopSearch',\n",
      "       'TopSearch Views', 'Shares', 'Caption', 'VideoDuration', 'Hashtags'],\n",
      "      dtype='object')\n"
     ]
    }
   ],
   "source": [
    "new_column_names = {\n",
    "    'authorMeta/fans': 'Fans', \n",
    "    'authorMeta/heart': 'Likes', \n",
    "    'authorMeta/id': 'UserID',\n",
    "    'authorMeta/name': 'UserName', \n",
    "    'authorMeta/nickName': 'NickName', \n",
    "    'commentCount': 'CommentsCount', \n",
    "    'id': 'VideoID', \n",
    "    'playCount': 'Views', \n",
    "    'searchHashtag/name': 'TopSearch', \n",
    "    'searchHashtag/views': 'TopSearch Views', \n",
    "    'shareCount': 'Shares',\n",
    "    'text': 'Caption', \n",
    "    'videoMeta/duration': 'VideoDuration', \n",
    "    'combined_hashtags': 'Hashtags'\n",
    "}\n",
    "\n",
    "# Rename the columns in the DataFrame\n",
    "df_cleaned = df_cleaned.rename(columns=new_column_names)\n",
    "\n",
    "df_cleaned.to_csv('/Users/kaylabiddle/Desktop/TiktokChangedASD/Cleaned Data/cleaned_tiktok_data.csv', index=False)\n",
    "\n",
    "print(df_cleaned.columns)"
   ]
  },
  {
   "cell_type": "code",
   "execution_count": null,
   "metadata": {},
   "outputs": [],
   "source": []
  }
 ],
 "metadata": {
  "kernelspec": {
   "display_name": "UCB",
   "language": "python",
   "name": "python3"
  },
  "language_info": {
   "codemirror_mode": {
    "name": "ipython",
    "version": 3
   },
   "file_extension": ".py",
   "mimetype": "text/x-python",
   "name": "python",
   "nbconvert_exporter": "python",
   "pygments_lexer": "ipython3",
   "version": "3.12.4"
  }
 },
 "nbformat": 4,
 "nbformat_minor": 2
}
