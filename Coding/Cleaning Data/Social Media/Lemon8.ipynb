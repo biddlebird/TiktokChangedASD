{
 "cells": [
  {
   "cell_type": "code",
   "execution_count": 2,
   "metadata": {},
   "outputs": [
    {
     "name": "stdout",
     "output_type": "stream",
     "text": [
      "{'authInfo': {},\n",
      " 'avatar': 'https://p16-sign-sg.lemon8cdn.com/user-avatar-alisg/89e305bae67d4bcaa58dedd1650ac106~tplv-sdweummd6v-shrink:1200:0:q75.webp?lk3s=d32e6450&source=ui_avatar&x-expires=1730613600&x-signature=dw65kOKDM32StWQXxOxxOvadhuE%3D',\n",
      " 'description': 'Hello fellow Penguins '\n",
      "                'ð\\x9f\\x87¸ð\\x9f\\x87¬ð\\x9f\\x8c\\x88ð\\x9f\\x87²ð\\x9f\\x87¾ Shiok '\n",
      "                'man! ð\\x9f\\x91\\x8donly recommend good stuff '\n",
      "                'å\\x8fªæ\\x8e¨è\\x8d\\x90å¥½æ\\x96\\x99 ð\\x9f\\x91\\x87',\n",
      " 'diggCount': 21,\n",
      " 'dugCount': 16692,\n",
      " 'favoredCount': 13698,\n",
      " 'favoriteCount': 3,\n",
      " 'followerCount': 3467,\n",
      " 'followingCount': 2,\n",
      " 'gender': 0,\n",
      " 'isBannedAccount': False,\n",
      " 'linkName': 'bibipew',\n",
      " 'location': '',\n",
      " 'nickName': 'â\\xad\\x90ï¸\\x8fBibipewâ\\xad\\x90ï¸\\x8fð\\x9f\\x90§ð\\x9f\\x91\\x8d',\n",
      " 'postCount': 1468,\n",
      " 'privacyStatus': 1,\n",
      " 'seoBan': 0,\n",
      " 'thirdLinks': [{'name': 'bibipew',\n",
      "                 'platform': 'ins',\n",
      "                 'url': 'https://www.instagram.com/bibipew/'},\n",
      "                {'name': 'bibipew1',\n",
      "                 'platform': 'twitter',\n",
      "                 'url': 'https://www.twitter.com/bibipew1'},\n",
      "                {'name': 'bibipew',\n",
      "                 'platform': 'youtube',\n",
      "                 'url': 'https://www.youtube.com/bibipew'}],\n",
      " 'userId': '7225781808377431042',\n",
      " 'userType': 1}\n",
      "{'groupId': '7332786762453893634', 'author': {'userId': '7077839510101378054', 'linkName': 'lemon8_sg', 'userType': 1, 'avatar': 'https://p16-sign-sg.lemon8cdn.com/user-avatar-alisg/b616218919e7c7ab1c8ac98707eef19b~tplv-sdweummd6v-shrink:120:0:q75.jpeg?lk3s=66c60501&source=feed_user&x-expires=1730613600&x-signature=OYx2GvTkq8QLMzBFC4tsh6YJJ%2FM%3D', 'description': 'Lemon8 Singapore Official\\nThe OG 🍋 right here', 'authInfo': '{\"auth_type\":102,\"show_auth_symbol\":true}', 'nickName': 'Lemon8_SG', 'publishCount': 0}, 'articleClass': 'Gallery', 'articleLikes': 7, 'imageList': [{'url': 'https://p16-sign-sg.lemon8cdn.com/tos-alisg-v-a3e477-sg/oY5AEBEFmIA1GtAgAK9wYuQ0ywlpDfICQ1el2G~tplv-sdweummd6v-shrink:640:0:q50.webp?lk3s=66c60501&source=seo_middle_feed_list&x-expires=1759557600&x-signature=rRvx%2F%2F1%2Fi6nKpbR7l%2FlTFVEC1AU%3D', 'width': 640, 'height': 855}, {'url': 'https://p16-sign-sg.lemon8cdn.com/tos-alisg-v-a3e477-sg/ocfyuz2DejB4cDAimSiXUEA6BZAbIgC6aMAQgE~tplv-sdweummd6v-shrink:640:0:q50.webp?lk3s=66c60501&source=seo_middle_feed_list&x-expires=1759557600&x-signature=clGPYwxS2LilzLQUbnwrUlNrb%2Bw%3D', 'width': 640, 'height': 855}, {'url': 'https://p16-sign-sg.lemon8cdn.com/tos-alisg-v-a3e477-sg/oUDBX6BmiAMU4SD5A2CaECzeg6cEIQAfgyabGi~tplv-sdweummd6v-shrink:640:0:q50.webp?lk3s=66c60501&source=seo_middle_feed_list&x-expires=1759557600&x-signature=DYKYWmvPyN%2B3Rn%2FXaekj6XEe50M%3D', 'width': 640, 'height': 855}], 'largeImage': {'url': 'https://p16-sign-sg.lemon8cdn.com/tos-alisg-v-a3e477-sg/oY5AEBEFmIA1GtAgAK9wYuQ0ywlpDfICQ1el2G~tplv-sdweummd6v-cs:480:640:q50.webp?lk3s=66c60501&source=seo_feed_list&x-expires=1759557600&x-signature=YL%2BEL9USLnF2c9iJ1qBq1WgSq%2Fs%3D', 'width': 480, 'height': 640}, 'title': 'What type of creator are YOU? (Part 2)', 'shortContent': \"Hi Zesties!!! Are you looking to start content on Lemon8, but not sure how to start?     🍋 Let's start off with a creator type test - do you associate with loving to share but not sure how to express it? OR you're simply concerned about how to design to get attention?     You might just be\"}\n",
      "{'groupId': '7363240819249299984', 'author': {'userId': '7363119266129937413', 'linkName': 'tsubakiaoi61', 'userType': 1, 'avatar': 'https://p16-sign-sg.lemon8cdn.com/user-avatar-alisg/51ce1b58906bbce90807b2c618e92377~tplv-sdweummd6v-shrink:120:0:q75.jpeg?lk3s=66c60501&source=feed_user&x-expires=1730613600&x-signature=ihimEMrhuLt2JWlox1MJPKq%2BFgg%3D', 'description': 'Model', 'authInfo': '', 'nickName': 'Tsubaki Aoi', 'publishCount': 0}, 'articleClass': 'Gallery', 'articleLikes': 19, 'imageList': [{'url': 'https://p16-sign-sg.lemon8cdn.com/tos-alisg-v-a3e477-sg/ocA8fvLMGgCRUe3oJcLAg3blSEepMADQIBAy7X~tplv-sdweummd6v-shrink:640:0:q50.webp?lk3s=66c60501&source=seo_middle_feed_list&x-expires=1759557600&x-signature=0TusR0l7aehfoSbE%2Fx7TnCiiFmg%3D', 'width': 640, 'height': 853}, {'url': 'https://p16-sign-sg.lemon8cdn.com/tos-alisg-v-a3e477-sg/oMyMXAGcQDEIAC3ue7JAgIAL8velCYSoRRMbgf~tplv-sdweummd6v-shrink:640:0:q50.webp?lk3s=66c60501&source=seo_middle_feed_list&x-expires=1759557600&x-signature=k8%2F5ocRSYhZRUOPnXcIGasEqqRw%3D', 'width': 640, 'height': 853}], 'largeImage': {'url': 'https://p16-sign-sg.lemon8cdn.com/tos-alisg-v-a3e477-sg/ocA8fvLMGgCRUe3oJcLAg3blSEepMADQIBAy7X~tplv-sdweummd6v-shrink:0:640:q50.webp?lk3s=66c60501&source=seo_feed_list&x-expires=1759557600&x-signature=U9zVbPfbTZtVpIEWEZR2jFOMGX8%3D', 'width': 480, 'height': 640}, 'title': '😍✨', 'shortContent': 'No makeup'}\n",
      "{'groupId': '7384710816123126289', 'author': {'userId': '7352047694222050305', 'linkName': 'iammarcusng', 'userType': 1, 'avatar': 'https://p16-sign-sg.lemon8cdn.com/user-avatar-alisg/2b94acc582191ce9a21300f8cf1bdf1f~tplv-sdweummd6v-shrink:120:0:q75.jpeg?lk3s=66c60501&source=feed_user&x-expires=1730613600&x-signature=tx14g%2FUr2jYSjs6bjgn%2BIfsrSQA%3D', 'description': 'Am looking to groom 5 more individuals into building their first $100k in a year', 'authInfo': '', 'nickName': 'Marcus Ng', 'publishCount': 0}, 'articleClass': 'Video', 'articleLikes': 30, 'imageList': [], 'largeImage': {'url': 'https://p16-sign-sg.lemon8cdn.com/tos-alisg-v-a3e477-sg/oYJSThQ7LLDAr2wAIZIGffeyQAtaAf1gGA33Y2~tplv-sdweummd6v-shrink:640:0:q50.webp?lk3s=66c60501&source=seo_feed_list&x-expires=1759557600&x-signature=%2F5FFx15W7jbZR%2BnX1gTQNzbdw9g%3D', 'width': 540, 'height': 960}, 'title': 'Tattoo tour ', 'shortContent': 'I’ve received many DMs about my tattoos so here you go!  #WhyILemon8   #tattoo   #RealTalk   #BeReal   #tattootour   #singapore'}\n",
      "{'groupId': '7421505696878969345', 'author': {'userId': '7146023683257549825', 'linkName': 'beardybearr', 'userType': 1, 'avatar': 'https://p16-sign-sg.lemon8cdn.com/user-avatar-alisg/4bb4b517c65c4b7e76f8b1000807fb10~tplv-sdweummd6v-shrink:120:0:q75.jpeg?lk3s=66c60501&source=feed_user&x-expires=1730613600&x-signature=MDNa75ngbLpqEcz7npx%2BRfuRG5M%3D', 'description': '🪩🫧 mini vlogs｜beauty ｜fashion｜lifestyle\\n\\n\\n 🎀 beardybearr@gmail.com', 'authInfo': '', 'nickName': 'beardybear✧.*', 'publishCount': 0}, 'articleClass': 'Video', 'articleLikes': 16, 'imageList': [], 'largeImage': {'url': 'https://p16-sign-sg.lemon8cdn.com/tos-alisg-v-a3e477-sg/oUylIAy03GTLfPAuAPLPG2bAH2DARJFfQeeA8I~tplv-sdweummd6v-shrink:640:0:q50.webp?lk3s=66c60501&source=seo_feed_list&x-expires=1759557600&x-signature=XjyS3ANAovV4QxKD18AWmZRlwH0%3D', 'width': 540, 'height': 960}, 'title': 'uni diaries 26 ⊹ .｡✧. + | first day back at uni', 'shortContent': '#study    #unilife    #univlog    #minivlog    #unidiaries'}\n",
      "{'groupId': '7397828266423222801', 'author': {'userId': '7189420270342734849', 'linkName': 'starspangledsky', 'userType': 1, 'avatar': 'https://p16-sign-sg.lemon8cdn.com/user-avatar-alisg/fdb4d2fec68e7b81c05caec1bd79962b~tplv-sdweummd6v-shrink:120:0:q75.jpeg?lk3s=66c60501&source=feed_user&x-expires=1730613600&x-signature=h3xlgCc%2F9n12hXBzapO8J7I%2BIOc%3D', 'description': '🍬sweetie millennial✨️ \\n📧: speaktomeinkisses@gmail.com', 'authInfo': '', 'nickName': 'Sasha B. 💖', 'publishCount': 0}, 'articleClass': 'Gallery', 'articleLikes': 400, 'imageList': [{'url': 'https://p16-sign-sg.lemon8cdn.com/tos-alisg-v-a3e477-sg/oIIUQABAtsuqEMDm1FF2fSthYnk9jEAgQIleCs~tplv-sdweummd6v-shrink:640:0:q50.webp?lk3s=66c60501&source=seo_middle_feed_list&x-expires=1759557600&x-signature=TnUX%2B3oYe1hVHrqwOPaszkb9tUg%3D', 'width': 522, 'height': 696}, {'url': 'https://p16-sign-sg.lemon8cdn.com/tos-alisg-v-a3e477-sg/ocN7DVvgegJLhAVGanaRp8AfcAQUfEMKNQTbAX~tplv-sdweummd6v-shrink:640:0:q50.webp?lk3s=66c60501&source=seo_middle_feed_list&x-expires=1759557600&x-signature=zSPegBgFy67lrBdFmsG1egFC97Q%3D', 'width': 578, 'height': 434}], 'largeImage': {'url': 'https://p16-sign-sg.lemon8cdn.com/tos-alisg-v-a3e477-sg/oIIUQABAtsuqEMDm1FF2fSthYnk9jEAgQIleCs~tplv-sdweummd6v-shrink:0:640:q50.webp?lk3s=66c60501&source=seo_feed_list&x-expires=1759557600&x-signature=8WjG8hF4uJl0Q6unSifabEmxKmQ%3D', 'width': 480, 'height': 640}, 'title': \"I went to a kinky party in SG so you don't have to\", 'shortContent': \"🤫We all know about Hollywood-style Eyes Wide Shut parties or Seventh Heaven Parties, where the participants go through all sorts of shenanigans in large, ornate houses. Well, in Singapore, we don't have anything similar, but we do have kinky parties which are similar in certain aspect!🤫    ✨️I\"}\n",
      "{'groupId': '7374571659115627025', 'author': {'userId': '7255306526528832514', 'linkName': 'idmayjie', 'userType': 1, 'avatar': 'https://p16-sign-sg.lemon8cdn.com/user-avatar-alisg/bb6a489ee52e58157284b9e92f1125f5~tplv-sdweummd6v-shrink:120:0:q75.jpeg?lk3s=66c60501&source=feed_user&x-expires=1730613600&x-signature=lwpzksYcXGerX6JP%2FoZaRrbHmdY%3D', 'description': 'Life as an Interior Designer 🏡 Home\\nDesign Tips 💡Travel ✈️ Food 😋 🇸🇬', 'authInfo': '', 'nickName': 'May 姐 ', 'publishCount': 0}, 'articleClass': 'Gallery', 'articleLikes': 511, 'imageList': [{'url': 'https://p16-sign-sg.lemon8cdn.com/tos-alisg-v-a3e477-sg/oUnnvmABfEClAuD0931X9BIgfFtT7V1AAQEEBC~tplv-sdweummd6v-shrink:640:0:q50.webp?lk3s=66c60501&source=seo_middle_feed_list&x-expires=1759557600&x-signature=ZKCDBSc1Ri8eDSegedFHqS5%2FsNU%3D', 'width': 640, 'height': 674}, {'url': 'https://p16-sign-sg.lemon8cdn.com/tos-alisg-v-a3e477-sg/o4EAXmA9pC7AsgtunfIEBFEB9vD0nVARBfD03Q~tplv-sdweummd6v-shrink:640:0:q50.webp?lk3s=66c60501&source=seo_middle_feed_list&x-expires=1759557600&x-signature=UUBRwtruvZ8t8SlNIv%2BiKmKaqEU%3D', 'width': 640, 'height': 674}, {'url': 'https://p16-sign-sg.lemon8cdn.com/tos-alisg-v-a3e477-sg/oY7BQFDXt9BQ4IA0pXEEu9CEvAAg3nAfVmfEnB~tplv-sdweummd6v-shrink:640:0:q50.webp?lk3s=66c60501&source=seo_middle_feed_list&x-expires=1759557600&x-signature=pSaJgqirilGb6hYxepf4xTtBgEk%3D', 'width': 640, 'height': 854}, {'url': 'https://p16-sign-sg.lemon8cdn.com/tos-alisg-v-a3e477-sg/oQBEfvA3EBn9QrVCnXQDfBFt90EFAA7gAhRmIu~tplv-sdweummd6v-shrink:640:0:q50.webp?lk3s=66c60501&source=seo_middle_feed_list&x-expires=1759557600&x-signature=HdkJCNGTq9lnv5l2F7GR84ew6rA%3D', 'width': 640, 'height': 854}, {'url': 'https://p16-sign-sg.lemon8cdn.com/tos-alisg-v-a3e477-sg/ogRuBffDQEnVtAm9BvRGBVn7XC3EmE9AFAA0Ig~tplv-sdweummd6v-shrink:640:0:q50.webp?lk3s=66c60501&source=seo_middle_feed_list&x-expires=1759557600&x-signature=Sr3qtoWwdilnlYc9FHZu%2FJhHZsc%3D', 'width': 640, 'height': 854}, {'url': 'https://p16-sign-sg.lemon8cdn.com/tos-alisg-v-a3e477-sg/owSuBffDQEnxtAm9BvGHBVn7XC3EHE9AFAA0Ig~tplv-sdweummd6v-shrink:640:0:q50.webp?lk3s=66c60501&source=seo_middle_feed_list&x-expires=1759557600&x-signature=t56rIhxckEHx9XUk3lDowpACxC8%3D', 'width': 640, 'height': 854}, {'url': 'https://p16-sign-sg.lemon8cdn.com/tos-alisg-v-a3e477-sg/oQ7rM8cp7QdgAuf5GAMAWE7ehlb3JAEAKDjA4e~tplv-sdweummd6v-shrink:640:0:q50.webp?lk3s=66c60501&source=seo_middle_feed_list&x-expires=1759557600&x-signature=LkQ3ACiGbX%2BBM%2Fp4DiyMmBTx7nw%3D', 'width': 640, 'height': 854}], 'largeImage': {'url': 'https://p16-sign-sg.lemon8cdn.com/tos-alisg-v-a3e477-sg/oUnnvmABfEClAuD0931X9BIgfFtT7V1AAQEEBC~tplv-sdweummd6v-shrink:0:640:q50.webp?lk3s=66c60501&source=seo_feed_list&x-expires=1759557600&x-signature=%2FB31dVtRhOlVCuT0XHfVC63NcW0%3D', 'width': 608, 'height': 640}, 'title': 'The Ideal Cozy Room: Comfort Meets Functional ', 'shortContent': 'This small apartment design raises the bed by 90 cm, creating additional storage and activity space underneath. The under-bed area can be used for storage boxes or activity equipment, further optimizing room efficiency. Additionally, the steps next to the bed are equipped with drawers, adding extra'}\n",
      "{'groupId': '7367660884098859521', 'author': {'userId': '7360940081521296390', 'linkName': '1love2', 'userType': 1, 'avatar': 'https://p16-sign-sg.lemon8cdn.com/user-avatar-alisg/413cbb1629cafe31f9fe04692fe3a800~tplv-sdweummd6v-shrink:120:0:q75.jpeg?lk3s=66c60501&source=feed_user&x-expires=1730613600&x-signature=RFiub%2BAB8%2B4x0KUCAipDNPgm34Y%3D', 'description': '163/88 私信は返しません\\n着るのが好き記録が大好きです\\n着回しおすすめです\\n🌟', 'authInfo': '', 'nickName': '1love 着回し日記です', 'publishCount': 0}, 'articleClass': 'Gallery', 'articleLikes': 8, 'imageList': [{'url': 'https://p16-sign-sg.lemon8cdn.com/tos-alisg-v-a3e477-sg/okfSAzNBzm4GIgEIMOOFK9oDCYAmPQtfD1QEAB~tplv-sdweummd6v-shrink:640:0:q50.webp?lk3s=66c60501&source=seo_middle_feed_list&x-expires=1759557600&x-signature=DA5Ose6314MG3vD6hwgiX%2BnpcWs%3D', 'width': 640, 'height': 853}, {'url': 'https://p16-sign-sg.lemon8cdn.com/tos-alisg-v-a3e477-sg/ogBI9AloEFEKLPAgQtlDQSOOzzMAD1mfgB4fCN~tplv-sdweummd6v-shrink:640:0:q50.webp?lk3s=66c60501&source=seo_middle_feed_list&x-expires=1759557600&x-signature=638T8dLQ4Zc9VEKKNp5BSWmDQMI%3D', 'width': 640, 'height': 853}, {'url': 'https://p16-sign-sg.lemon8cdn.com/tos-alisg-v-a3e477-sg/oQAAzJEQIBgmS7Pf4MFQf2BOqNDOg9EKDCztA1~tplv-sdweummd6v-shrink:640:0:q50.webp?lk3s=66c60501&source=seo_middle_feed_list&x-expires=1759557600&x-signature=sQjK06N32UVhpx1qEjbIgmVzSzw%3D', 'width': 640, 'height': 853}, {'url': 'https://p16-sign-sg.lemon8cdn.com/tos-alisg-v-a3e477-sg/oEQOPsJtzIKO9M4BEmzgSDD1FSfAECNABQYfAC~tplv-sdweummd6v-shrink:640:0:q50.webp?lk3s=66c60501&source=seo_middle_feed_list&x-expires=1759557600&x-signature=HwOK%2Fks94oerwdXXy%2FexBvoZ3Ec%3D', 'width': 640, 'height': 853}, {'url': 'https://p16-sign-sg.lemon8cdn.com/tos-alisg-v-a3e477-sg/oInVAGGQcALmGele2AqewAYaYD2dfTMcIgcJAQ~tplv-sdweummd6v-shrink:640:0:q50.webp?lk3s=66c60501&source=seo_middle_feed_list&x-expires=1759557600&x-signature=DJ7PhqJMFMPf9uX2rxvCAh78ff0%3D', 'width': 640, 'height': 853}, {'url': 'https://p16-sign-sg.lemon8cdn.com/tos-alisg-v-a3e477-sg/o8zFw9COILtQBDASwf1KfQzOmNAM4DKnPAEgEB~tplv-sdweummd6v-shrink:640:0:q50.webp?lk3s=66c60501&source=seo_middle_feed_list&x-expires=1759557600&x-signature=HiEs8IRFP2Rn54PkKqoLGafxAh8%3D', 'width': 640, 'height': 853}, {'url': 'https://p16-sign-sg.lemon8cdn.com/tos-alisg-v-a3e477-sg/oQzftzyMmIQA9AB1MCPFMBDEQODAKIEOSgfjN4~tplv-sdweummd6v-shrink:640:0:q50.webp?lk3s=66c60501&source=seo_middle_feed_list&x-expires=1759557600&x-signature=e9ogYtefIexufjSGPKxwKBJjwJM%3D', 'width': 640, 'height': 853}], 'largeImage': {'url': 'https://p16-sign-sg.lemon8cdn.com/tos-alisg-v-a3e477-sg/okfSAzNBzm4GIgEIMOOFK9oDCYAmPQtfD1QEAB~tplv-sdweummd6v-shrink:0:640:q50.webp?lk3s=66c60501&source=seo_feed_list&x-expires=1759557600&x-signature=rPXvY%2BJaLhDv3LHXQfnNExftWqw%3D', 'width': 480, 'height': 640}, 'title': '犬のTシャツ＋ショートパンツ！このセットは本当にかわいいですね〜💗', 'shortContent': 'わんちゃんが好きなので、このセットが好きです。 #MyTop3   #MyFreeTime   #outfitinspiration   #ootd   #ootdfashion   #fashion   #Lemon8SG   #lemon8fashion   #Lemon8OOTD'}\n",
      "{'groupId': '7303837587339379202', 'author': {'userId': '7272978700069028865', 'linkName': 'amandaooi', 'userType': 1, 'avatar': 'https://p16-sign-sg.lemon8cdn.com/user-avatar-alisg/8f6a030ffd1bf0d36f88954101bf9e95~tplv-sdweummd6v-shrink:120:0:q75.jpeg?lk3s=66c60501&source=feed_user&x-expires=1730613600&x-signature=IRPdgMFBYOitWz9y%2FNUTuZH77rQ%3D', 'description': '🎀 Girl talk 🎀 + Side quests 🔮', 'authInfo': '', 'nickName': 'Amanda Ooi', 'publishCount': 0}, 'articleClass': 'Gallery', 'articleLikes': 876, 'imageList': [{'url': 'https://p16-sign-sg.lemon8cdn.com/tos-alisg-v-a3e477-sg/oY20VPyPXWLBicBAyEAAZPqbkoAIYryBictNx~tplv-sdweummd6v-shrink:640:0:q50.webp?lk3s=66c60501&source=seo_middle_feed_list&x-expires=1759557600&x-signature=4cnYUzJeL2%2FkgRHJ0VrkxsMbX2U%3D', 'width': 640, 'height': 853}, {'url': 'https://p16-sign-sg.lemon8cdn.com/tos-alisg-v-a3e477-sg/oMdPZLBqAExIkyiVyAbiotAyckuArB2YBPYc0~tplv-sdweummd6v-shrink:640:0:q50.webp?lk3s=66c60501&source=seo_middle_feed_list&x-expires=1759557600&x-signature=BjHUWH3NVxu%2B8agP7fOdTJB%2BInI%3D', 'width': 640, 'height': 855}, {'url': 'https://p16-sign-sg.lemon8cdn.com/tos-alisg-v-a3e477-sg/oIcAZrB0iAyBxo2VBYwIZtciEAnPqzLyPkIAb~tplv-sdweummd6v-shrink:640:0:q50.webp?lk3s=66c60501&source=seo_middle_feed_list&x-expires=1759557600&x-signature=S0ZI50X0ndofvXpYXd4orhHGs2A%3D', 'width': 640, 'height': 855}, {'url': 'https://p16-sign-sg.lemon8cdn.com/tos-alisg-v-a3e477-sg/osAQgEsAtKlIlE5f4A0XCHVMRafD9CFsQXmBIp~tplv-sdweummd6v-shrink:640:0:q50.webp?lk3s=66c60501&source=seo_middle_feed_list&x-expires=1759557600&x-signature=oOXF4JTLCmZE91pRNftbTe%2BUhZs%3D', 'width': 640, 'height': 855}], 'largeImage': {'url': 'https://p16-sign-sg.lemon8cdn.com/tos-alisg-v-a3e477-sg/oY20VPyPXWLBicBAyEAAZPqbkoAIYryBictNx~tplv-sdweummd6v-shrink:0:640:q50.webp?lk3s=66c60501&source=seo_feed_list&x-expires=1759557600&x-signature=E6H0ECbXQpB1L%2B38HoYfT7cV2Jg%3D', 'width': 480, 'height': 640}, 'title': 'Work friends are NOT friends', 'shortContent': 'It doesn’t mean they can’t be, but if you’re an intern or fresh grad it may come as abit of a culture shock (it was for me!). This especially applies at large corporates or very white collar roles.    🗿 Friends vs Colleagues  - it’s super easy to blur the line between a work friend and real friend,'}\n",
      "{'groupId': '7352195524600087057', 'author': {'userId': '7285579491593192453', 'linkName': 'sunnivagiselle', 'userType': 1, 'avatar': 'https://p16-sign-sg.lemon8cdn.com/user-avatar-alisg/24b849ee3e418764f32b54abd28f3f59~tplv-sdweummd6v-shrink:120:0:q75.jpeg?lk3s=66c60501&source=feed_user&x-expires=1730613600&x-signature=pVNky5qCPf48mNjWr0sYDkY%2FM%2BE%3D', 'description': 'Embracing life with love, grace, and unwavering optimism.', 'authInfo': '', 'nickName': 'Sunniva', 'publishCount': 0}, 'articleClass': 'Gallery', 'articleLikes': 1, 'imageList': [{'url': 'https://p16-sign-sg.lemon8cdn.com/tos-alisg-v-a3e477-sg/okAioPm4EPzeQnBCuI5BvBF2fjEiAABgA6OzIo~tplv-sdweummd6v-shrink:640:0:q50.webp?lk3s=66c60501&source=seo_middle_feed_list&x-expires=1759557600&x-signature=en1PUuSUxqpkQZBV7B6IEnD8Ge0%3D', 'width': 640, 'height': 799}, {'url': 'https://p16-sign-sg.lemon8cdn.com/tos-alisg-v-a3e477-sg/oU8P4AA8zABOzdtIC1iigfBjeBE2o5AIEJviQB~tplv-sdweummd6v-shrink:640:0:q50.webp?lk3s=66c60501&source=seo_middle_feed_list&x-expires=1759557600&x-signature=vEeAuj2zrgWhZJhwckp9JviC6lQ%3D', 'width': 640, 'height': 754}], 'largeImage': {'url': 'https://p16-sign-sg.lemon8cdn.com/tos-alisg-v-a3e477-sg/okAioPm4EPzeQnBCuI5BvBF2fjEiAABgA6OzIo~tplv-sdweummd6v-shrink:0:640:q50.webp?lk3s=66c60501&source=seo_feed_list&x-expires=1759557600&x-signature=9WpVh417j2ThGMLGz9qY%2FY7A4n4%3D', 'width': 513, 'height': 640}, 'title': 'selfie during study break 💓', 'shortContent': ''}\n",
      "{'groupId': '7411551223545102865', 'author': {'userId': '7392077028780229637', 'linkName': 'lemon6124035423', 'userType': 1, 'avatar': 'https://p16-sign-sg.lemon8cdn.com/user-avatar-alisg/de33a5f25128e562b8b3f9ac54f15e99~tplv-sdweummd6v-shrink:120:0:q75.jpeg?lk3s=66c60501&source=feed_user&x-expires=1730613600&x-signature=sT4vfrHeVe%2BwEmETRJxe2hQVsZA%3D', 'description': 'If you have interested, add my number 👆🏻', 'authInfo': '', 'nickName': 'wholesale', 'publishCount': 0}, 'articleClass': 'Video', 'articleLikes': 5, 'imageList': [], 'largeImage': {'url': 'https://p16-sign-sg.lemon8cdn.com/tos-alisg-v-a3e477-sg/occ7EQGeGDEsH2AbAxFuBtmAD9YgXCO2Ivf4bE~tplv-sdweummd6v-shrink:640:0:q50.webp?lk3s=66c60501&source=seo_feed_list&x-expires=1759557600&x-signature=rAmj3CLe6oY6RInIU95CqZjyEbw%3D', 'width': 540, 'height': 960}, 'title': '', 'shortContent': ''}\n"
     ]
    }
   ],
   "source": [
    "from lemon8 import Lemon8\n",
    "\n",
    "# Getting an idea of what pylemon8 provides\n",
    "lemon8 = Lemon8()\n",
    "for item in lemon8.feed('foryou').get_items():\n",
    "    print(item) "
   ]
  },
  {
   "cell_type": "code",
   "execution_count": 42,
   "metadata": {},
   "outputs": [
    {
     "name": "stdout",
     "output_type": "stream",
     "text": [
      "  articleClass  articleLikes                                      title  \\\n",
      "0      Gallery            22  Congrats to the winners of #SummerDiary 🔥   \n",
      "1      Gallery           454                   my nightmare toxic ex 🤢❌   \n",
      "2        Video           129                                              \n",
      "3        Video           550                🇸🇬Interesting Taobao finds!   \n",
      "4      Gallery             6                               Introduction   \n",
      "\n",
      "                                        shortContent  \n",
      "0  🥳 From Aug 1-31 2024, we invited everyone to s...  \n",
      "1  LONG STORY AHEAD ‼️‼️‼️    for context: this h...  \n",
      "2  Oh no! Who wouldn't be confused after seeing t...  \n",
      "3  #taobao    #taobaofind    #shopping    #homeap...  \n",
      "4  Hello everyone!! Finally, I decided to share m...  \n"
     ]
    }
   ],
   "source": [
    "import pandas as pd\n",
    "\n",
    "data_list = []\n",
    "for item in lemon8.feed('foryou').get_items():\n",
    "    data = {\n",
    "        'articleClass': item.get('articleClass', ''),\n",
    "        'articleLikes': item.get('articleLikes', ''),\n",
    "        'title': item.get('title', ''),\n",
    "        'shortContent': item.get('shortContent', '')\n",
    "    }\n",
    "\n",
    "    data_list.append(data)\n",
    "\n",
    "df = pd.DataFrame(data_list)\n",
    "\n",
    "print(df.head())"
   ]
  },
  {
   "cell_type": "code",
   "execution_count": 43,
   "metadata": {},
   "outputs": [
    {
     "data": {
      "text/html": [
       "<div>\n",
       "<style scoped>\n",
       "    .dataframe tbody tr th:only-of-type {\n",
       "        vertical-align: middle;\n",
       "    }\n",
       "\n",
       "    .dataframe tbody tr th {\n",
       "        vertical-align: top;\n",
       "    }\n",
       "\n",
       "    .dataframe thead th {\n",
       "        text-align: right;\n",
       "    }\n",
       "</style>\n",
       "<table border=\"1\" class=\"dataframe\">\n",
       "  <thead>\n",
       "    <tr style=\"text-align: right;\">\n",
       "      <th></th>\n",
       "      <th>articleClass</th>\n",
       "      <th>articleLikes</th>\n",
       "      <th>title</th>\n",
       "      <th>shortContent</th>\n",
       "    </tr>\n",
       "  </thead>\n",
       "  <tbody>\n",
       "    <tr>\n",
       "      <th>0</th>\n",
       "      <td>Gallery</td>\n",
       "      <td>22</td>\n",
       "      <td>Congrats to the winners of #SummerDiary 🔥</td>\n",
       "      <td>🥳 From Aug 1-31 2024, we invited everyone to s...</td>\n",
       "    </tr>\n",
       "    <tr>\n",
       "      <th>1</th>\n",
       "      <td>Gallery</td>\n",
       "      <td>454</td>\n",
       "      <td>my nightmare toxic ex 🤢❌</td>\n",
       "      <td>LONG STORY AHEAD ‼️‼️‼️    for context: this h...</td>\n",
       "    </tr>\n",
       "    <tr>\n",
       "      <th>2</th>\n",
       "      <td>Video</td>\n",
       "      <td>129</td>\n",
       "      <td></td>\n",
       "      <td>Oh no! Who wouldn't be confused after seeing t...</td>\n",
       "    </tr>\n",
       "    <tr>\n",
       "      <th>3</th>\n",
       "      <td>Video</td>\n",
       "      <td>550</td>\n",
       "      <td>🇸🇬Interesting Taobao finds!</td>\n",
       "      <td>#taobao    #taobaofind    #shopping    #homeap...</td>\n",
       "    </tr>\n",
       "    <tr>\n",
       "      <th>4</th>\n",
       "      <td>Gallery</td>\n",
       "      <td>6</td>\n",
       "      <td>Introduction</td>\n",
       "      <td>Hello everyone!! Finally, I decided to share m...</td>\n",
       "    </tr>\n",
       "  </tbody>\n",
       "</table>\n",
       "</div>"
      ],
      "text/plain": [
       "  articleClass  articleLikes                                      title  \\\n",
       "0      Gallery            22  Congrats to the winners of #SummerDiary 🔥   \n",
       "1      Gallery           454                   my nightmare toxic ex 🤢❌   \n",
       "2        Video           129                                              \n",
       "3        Video           550                🇸🇬Interesting Taobao finds!   \n",
       "4      Gallery             6                               Introduction   \n",
       "\n",
       "                                        shortContent  \n",
       "0  🥳 From Aug 1-31 2024, we invited everyone to s...  \n",
       "1  LONG STORY AHEAD ‼️‼️‼️    for context: this h...  \n",
       "2  Oh no! Who wouldn't be confused after seeing t...  \n",
       "3  #taobao    #taobaofind    #shopping    #homeap...  \n",
       "4  Hello everyone!! Finally, I decided to share m...  "
      ]
     },
     "execution_count": 43,
     "metadata": {},
     "output_type": "execute_result"
    }
   ],
   "source": [
    "df.to_csv('lemon8_data.csv', index=False)\n",
    "df.head()"
   ]
  },
  {
   "cell_type": "code",
   "execution_count": 36,
   "metadata": {},
   "outputs": [],
   "source": [
    "keywords = ['#autism', '#autismawareness', '#autismacceptance', '#asd', '#adhd', '#specialneeds', '#autistic', '#autismmom', '#autismfamily', '#autismo', '#autismlove', '#memes', '#autismlife', '#autismspectrum', '#autismsupport', '#aspergers', '#disability', '#downsyndrome', '#autismspeaks', '#autismspectrumdisorder', '#autismparents', '#dankmemes', '#meme', '#love', '#mentalhealth', '#actuallyautistic', '#neurodiversity', '#anxiety', '#inclusion', '#specialeducation', '#autismdad', '#differentnotless', '#dank', '#autismcommunity', '#autismadvocate', '#sensoryprocessingdisorder', '#edgymemes', '#autismparent', '#aba', '#edgy', '#speechtherapy', '#education', '#autisme', '#cerebralpalsy', '#autismrocks', '#funny', '#cringe', '#parenting', '#autismjourney', '#neurodivergent', '#cancer', '#autismworld', '#therapy', '#disabilityawareness', '#depression', '#mentalhealthawareness', '#autismawarenessmonth', '#occupationaltherapy', '#lmao', '#dyslexia']"
   ]
  }
 ],
 "metadata": {
  "kernelspec": {
   "display_name": "UCB",
   "language": "python",
   "name": "python3"
  },
  "language_info": {
   "codemirror_mode": {
    "name": "ipython",
    "version": 3
   },
   "file_extension": ".py",
   "mimetype": "text/x-python",
   "name": "python",
   "nbconvert_exporter": "python",
   "pygments_lexer": "ipython3",
   "version": "3.12.4"
  }
 },
 "nbformat": 4,
 "nbformat_minor": 2
}
