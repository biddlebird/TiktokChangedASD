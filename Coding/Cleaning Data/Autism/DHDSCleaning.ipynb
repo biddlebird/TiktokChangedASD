{
 "cells": [
  {
   "cell_type": "code",
   "execution_count": 1,
   "metadata": {},
   "outputs": [],
   "source": [
    "import pandas as pd"
   ]
  },
  {
   "cell_type": "code",
   "execution_count": 3,
   "metadata": {},
   "outputs": [
    {
     "name": "stderr",
     "output_type": "stream",
     "text": [
      "/var/folders/m9/nwvp3yqj5f76trygypnkypv80000gp/T/ipykernel_7133/1843764822.py:2: DtypeWarning: Columns (0,24) have mixed types. Specify dtype option on import or set low_memory=False.\n",
      "  df = pd.read_csv(DHDS_path)\n"
     ]
    }
   ],
   "source": [
    "DHDS_path = '../../../Raw Data/Disability_and_Health_Data_System__DHDS_.csv'\n",
    "df = pd.read_csv(DHDS_path)"
   ]
  },
  {
   "cell_type": "code",
   "execution_count": 4,
   "metadata": {},
   "outputs": [
    {
     "name": "stdout",
     "output_type": "stream",
     "text": [
      "Index(['Rowid', 'Year', 'LocationAbbr', 'LocationDesc', 'DataSource',\n",
      "       'Category', 'Indicator', 'Response', 'Data_Value_Unit',\n",
      "       'Data_Value_Type', 'Data_Value', 'Data_Value_Alt',\n",
      "       'Data_Value_Footnote_Symbol', 'Data_Value_Footnote',\n",
      "       'Low_Confidence_Limit', 'High_Confidence_Limit', 'Number',\n",
      "       'WeightedNumber', 'StratificationCategory1', 'Stratification1',\n",
      "       'StratificationCategory2', 'Stratification2', 'CategoryID',\n",
      "       'IndicatorID', 'Geolocation', 'LocationID', 'ResponseID',\n",
      "       'DataValueTypeID', 'StratificationCategoryID1', 'StratificationID1',\n",
      "       'StratificationCategoryID2', 'StratificationID2'],\n",
      "      dtype='object')\n",
      "\n",
      "Values in the dataset:\n",
      "                                      Rowid  Year LocationAbbr  \\\n",
      "0       2019~11~JOB01~JOB~DISTYPE~SELFDIS~~  2019           DC   \n",
      "1                                       NaN  2020           NJ   \n",
      "2                                       NaN  2020           WV   \n",
      "3                                       NaN  2020           RI   \n",
      "4                                       NaN  2020         HHS8   \n",
      "...                                     ...   ...          ...   \n",
      "751067                                257.0  2022           AZ   \n",
      "751068                                 19.0  2022           ME   \n",
      "751069                                 19.0  2022           PA   \n",
      "751070                                 66.0  2022           AL   \n",
      "751071                                578.0  2022           LA   \n",
      "\n",
      "                LocationDesc DataSource                   Category  \\\n",
      "0       District of Columbia      BRFSS               Demographics   \n",
      "1                 New Jersey      BRFSS               Demographics   \n",
      "2              West Virginia      BRFSS               Demographics   \n",
      "3               Rhode Island      BRFSS               Demographics   \n",
      "4               HHS Region 8      BRFSS               Demographics   \n",
      "...                      ...        ...                        ...   \n",
      "751067               Arizona      BRFSS  Mental & Emotional Health   \n",
      "751068                 Maine      BRFSS  Mental & Emotional Health   \n",
      "751069          Pennsylvania      BRFSS  Mental & Emotional Health   \n",
      "751070               Alabama      BRFSS  Mental & Emotional Health   \n",
      "751071             Louisiana      BRFSS  Mental & Emotional Health   \n",
      "\n",
      "                                                Indicator  \\\n",
      "0       Employment status among adults 18 years of age...   \n",
      "1       Education level among adults 18 years of age o...   \n",
      "2       Education level among adults 18 years of age o...   \n",
      "3       Income level among adults 18 years of age or o...   \n",
      "4       Income level among adults 18 years of age or o...   \n",
      "...                                                   ...   \n",
      "751067  Mentally unhealthy days in the past 30 days am...   \n",
      "751068  Mentally unhealthy days in the past 30 days am...   \n",
      "751069  Mentally unhealthy days in the past 30 days am...   \n",
      "751070  Mentally unhealthy days in the past 30 days am...   \n",
      "751071  Mentally unhealthy days in the past 30 days am...   \n",
      "\n",
      "                    Response Data_Value_Unit          Data_Value_Type  ...  \\\n",
      "0                   Employed               %  Age-adjusted Prevalence  ...   \n",
      "1           College Graduate               %  Age-adjusted Prevalence  ...   \n",
      "2       High School Graduate               %  Age-adjusted Prevalence  ...   \n",
      "3        $25,000 to <$35,000               %  Age-adjusted Prevalence  ...   \n",
      "4        $25,000 to <$35,000               %  Age-adjusted Prevalence  ...   \n",
      "...                      ...             ...                      ...  ...   \n",
      "751067                0 Days               %  Age-adjusted Prevalence  ...   \n",
      "751068              14+ Days               %  Age-adjusted Prevalence  ...   \n",
      "751069             1-13 Days               %  Age-adjusted Prevalence  ...   \n",
      "751070              14+ Days               %  Age-adjusted Prevalence  ...   \n",
      "751071                0 Days               %               Prevalence  ...   \n",
      "\n",
      "        CategoryID  IndicatorID  \\\n",
      "0            DEMOG          JOB   \n",
      "1            DEMOG      EDUCATE   \n",
      "2            DEMOG      EDUCATE   \n",
      "3            DEMOG      INCOMEN   \n",
      "4            DEMOG      INCOMEN   \n",
      "...            ...          ...   \n",
      "751067       MHLTH       MHDAYS   \n",
      "751068       MHLTH       MHDAYS   \n",
      "751069       MHLTH       MHDAYS   \n",
      "751070       MHLTH       MHDAYS   \n",
      "751071       MHLTH       MHDAYS   \n",
      "\n",
      "                                           Geolocation LocationID  ResponseID  \\\n",
      "0                                                  NaN         11       JOB01   \n",
      "1                                                  NaN         34   EDUCATE03   \n",
      "2                                                  NaN         54   EDUCATE02   \n",
      "3                                                  NaN         44    INCOME03   \n",
      "4                                                  NaN         87    INCOME03   \n",
      "...                                                ...        ...         ...   \n",
      "751067  POINT (-111.76381127699972 34.865970280000454)          4      DAYS01   \n",
      "751068   POINT (-68.98503133599962 45.254228894000505)         23      DAYS03   \n",
      "751069    POINT (-77.86070029399963 40.79373015200048)         42      DAYS02   \n",
      "751070    POINT (-86.63186076199969 32.84057112200048)          1      DAYS03   \n",
      "751071    POINT (-92.44568007099969 31.31266064400046)         22      DAYS01   \n",
      "\n",
      "        DataValueTypeID  StratificationCategoryID1  StratificationID1  \\\n",
      "0            AGEADJPREV                    DISTYPE            SELFDIS   \n",
      "1            AGEADJPREV                    DISTYPE             INDDIS   \n",
      "2            AGEADJPREV                    DISTYPE             INDDIS   \n",
      "3            AGEADJPREV                    DISTYPE             COGDIS   \n",
      "4            AGEADJPREV                    DISTYPE             INDDIS   \n",
      "...                 ...                        ...                ...   \n",
      "751067       AGEADJPREV                    DISSTAT              NODIS   \n",
      "751068       AGEADJPREV                    DISSTAT             DISABL   \n",
      "751069       AGEADJPREV                    DISSTAT             DISABL   \n",
      "751070       AGEADJPREV                    DISSTAT              NODIS   \n",
      "751071             PREV                    DISSTAT             DISABL   \n",
      "\n",
      "       StratificationCategoryID2 StratificationID2  \n",
      "0                            NaN               NaN  \n",
      "1                            NaN               NaN  \n",
      "2                            NaN               NaN  \n",
      "3                            NaN               NaN  \n",
      "4                            NaN               NaN  \n",
      "...                          ...               ...  \n",
      "751067                      RACE               MRC  \n",
      "751068                      RACE               HIS  \n",
      "751069                      RACE               MRC  \n",
      "751070                      RACE               BLK  \n",
      "751071                    AGEGRP             AGE03  \n",
      "\n",
      "[751072 rows x 32 columns]\n"
     ]
    }
   ],
   "source": [
    "print(df.columns)\n",
    "print(\"\\nValues in the dataset:\")\n",
    "print(df)"
   ]
  }
 ],
 "metadata": {
  "kernelspec": {
   "display_name": "UCB",
   "language": "python",
   "name": "python3"
  },
  "language_info": {
   "codemirror_mode": {
    "name": "ipython",
    "version": 3
   },
   "file_extension": ".py",
   "mimetype": "text/x-python",
   "name": "python",
   "nbconvert_exporter": "python",
   "pygments_lexer": "ipython3",
   "version": "3.12.4"
  }
 },
 "nbformat": 4,
 "nbformat_minor": 2
}
